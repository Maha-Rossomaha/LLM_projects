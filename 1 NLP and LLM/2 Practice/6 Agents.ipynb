{
 "cells": [
  {
   "cell_type": "markdown",
   "id": "59680a0f",
   "metadata": {},
   "source": [
    "### Dependencies"
   ]
  },
  {
   "cell_type": "code",
   "execution_count": null,
   "id": "48cd9457",
   "metadata": {},
   "outputs": [],
   "source": [
    "# !pip install transformers\n",
    "# !pip install datasets\n",
    "# pip install yfinance\n",
    "\n",
    "# !pip install llama-index-core==v0.11.16 llama-index-llms-together==0.2.0\n",
    "# pip install langchain==0.3 langchain-together==0.2.0"
   ]
  },
  {
   "cell_type": "code",
   "execution_count": null,
   "id": "ea6119d8",
   "metadata": {},
   "outputs": [],
   "source": [
    "import os\n",
    "import json\n",
    "import datetime\n",
    "import requests\n",
    "import yfinance as yf\n",
    "from typing import Dict\n",
    "\n",
    "## Llama-index\n",
    "from llama_index.llms.together import TogetherLLM\n",
    "from llama_index.core.tools import FunctionTool\n",
    "from llama_index.core.agent import ReActAgent\n",
    "from llama_index.core.tools import FunctionTool\n",
    "\n",
    "## LangChain\n",
    "from langchain_core.tools import tool\n",
    "from langchain_together import ChatTogether"
   ]
  },
  {
   "cell_type": "markdown",
   "id": "db11d044",
   "metadata": {},
   "source": [
    "### Agents "
   ]
  },
  {
   "cell_type": "markdown",
   "id": "bec56e9f",
   "metadata": {},
   "source": [
    "#### Dataset"
   ]
  },
  {
   "cell_type": "code",
   "execution_count": null,
   "id": "a6a47b3b",
   "metadata": {},
   "outputs": [],
   "source": [
    "stock = yf.Ticker(\"AAPL\")\n",
    "df = stock.history(period=\"1mo\")\n",
    "df[[\"Open\", \"Close\"]].head(2)"
   ]
  },
  {
   "cell_type": "code",
   "execution_count": null,
   "id": "4ee76ed2",
   "metadata": {},
   "outputs": [],
   "source": [
    "api_key = \"\" # ваш API ключ здесь!"
   ]
  },
  {
   "cell_type": "code",
   "execution_count": null,
   "id": "94a7c48d",
   "metadata": {},
   "outputs": [],
   "source": [
    "api_template = \"https://newsapi.org/v2/everything?q={keyword}&apiKey={api_key}&from={date_from}\"\n",
    "\n",
    "articles = requests.get(\n",
    "    api_template.format(\n",
    "        keyword=\"Apple\", \n",
    "        api_key=api_key,\n",
    "        date_from=(datetime.datetime.today() - datetime.timedelta(days=30)).strftime('%Y-%m-%d')\n",
    "    )\n",
    ").json()"
   ]
  },
  {
   "cell_type": "code",
   "execution_count": null,
   "id": "2e6ecc0b",
   "metadata": {},
   "outputs": [],
   "source": [
    "def get_date_with_max_delta_price_for_ticker(ticker_name: str) -> Dict[str, str]:\n",
    "    \"\"\"receives ticker name, get dataframe with open and close prices of this ticker stock prices if 1 month period and returns dict with date of maximum daily difference in prices and max difference in prices itself\"\"\"\n",
    "    stock = yf.Ticker(ticker_name)\n",
    "    df = stock.history(period=\"1mo\")\n",
    "    df['delta'] = (df['Close'] - df['Open']).abs()\n",
    "    id_max_delta = df['delta'].idxmax()\n",
    "    return {\n",
    "        'date': id_max_delta.strftime('%Y-%m-%d'), \n",
    "        'max_delta': df['delta'].max()\n",
    "    }\n",
    "\n",
    "def get_most_relative_news(\n",
    "    company_name: str,\n",
    "    date_with_max_price_delta: str\n",
    ") -> str:\n",
    "    \"\"\"receives company name and string with date of max price delta, returns 5 most recent news articles about this company\"\"\"\n",
    "    api_template = \"https://newsapi.org/v2/everything?q={keyword}&apiKey={api_key}&from={date_from}\"\n",
    "    articles = requests.get(\n",
    "        api_template.format(\n",
    "            keyword=company_name, \n",
    "            api_key=api_key,\n",
    "            date_from=(datetime.datetime.today() - datetime.timedelta(days=30)).strftime('%Y-%m-%d')\n",
    "        )\n",
    "    ).json()\n",
    "    articles = [elem for elem in articles['articles'] if elem['title'] != '[Removed]' \\\n",
    "                and datetime.datetime.strptime(elem['publishedAt'], \"%Y-%m-%dT%H:%M:%SZ\") <= \\\n",
    "                    datetime.datetime.strptime(date_with_max_price_delta, '%Y-%m-%d')]\n",
    "    top_five_news = sorted(articles, key=lambda x: datetime.datetime.strptime(x['publishedAt'], '%Y-%m-%dT%H:%M:%SZ'), reverse=True)[:5]\n",
    "    top_five_news = [f'News article {i + 1}: ' + elem['content'] for i, elem in enumerate(top_five_news)]\n",
    "    return '\\n'.join(top_five_news)"
   ]
  },
  {
   "cell_type": "markdown",
   "id": "2ea56466",
   "metadata": {},
   "source": [
    "## LlamaIndex"
   ]
  },
  {
   "cell_type": "code",
   "execution_count": null,
   "id": "197e2018",
   "metadata": {},
   "outputs": [],
   "source": [
    "model = \"meta-llama/Meta-Llama-3.1-8B-Instruct-Turbo\"\n",
    "llm = TogetherLLM(model=model, api_key=os.environ['TOGETHER_API_KEY'])\n",
    "get_date_with_max_delta_price_for_ticker_tool = FunctionTool.from_defaults(get_date_with_max_delta_price_for_ticker)\n",
    "get_most_relative_news_tool = FunctionTool.from_defaults(get_most_relative_news)\n",
    "agent = ReActAgent(\n",
    "    llm=llm, \n",
    "    tools=[\n",
    "        get_date_with_max_delta_price_for_ticker_tool, \n",
    "        get_most_relative_news_tool\n",
    "    ], \n",
    "    memory=None, \n",
    "    verbose=True\n",
    ")"
   ]
  },
  {
   "cell_type": "code",
   "execution_count": null,
   "id": "3f3613d0",
   "metadata": {},
   "outputs": [],
   "source": [
    "agent.query('Tell me when Apple stocks price difference was highest during last month and explain why it was so.')"
   ]
  },
  {
   "cell_type": "markdown",
   "id": "abbb1677",
   "metadata": {},
   "source": [
    "## LangChain"
   ]
  },
  {
   "cell_type": "code",
   "execution_count": null,
   "id": "8ccb014b",
   "metadata": {},
   "outputs": [],
   "source": [
    "@tool\n",
    "def get_date_with_max_delta_price_for_ticker_tool(ticker_name: str):\n",
    "    \"\"\"receives ticker name, get dataframe with open and close prices of this ticker stock prices if 1 month period and returns dict with date of maximum daily difference in prices and max difference in prices itself\"\"\"\n",
    "    return get_date_with_max_delta_price_for_ticker(ticker_name)\n",
    "\n",
    "@tool\n",
    "def get_most_relative_news_tool(company_name: str, date_with_max_price_delta: str):\n",
    "    \"\"\"receives company name and string with date of max price delta, returns 5 most recent news articles about this company\"\"\"\n",
    "    return get_most_relative_news(company_name, date_with_max_price_delta)"
   ]
  },
  {
   "cell_type": "code",
   "execution_count": null,
   "id": "889d8693",
   "metadata": {},
   "outputs": [],
   "source": [
    "FUNCTION_REGISTRY = {}\n",
    "\n",
    "def parse_function_call(model_answer):\n",
    "    model_answer = json.loads(model_answer)\n",
    "    if model_answer['name'] in FUNCTION_REGISTRY.keys():\n",
    "        return FUNCTION_REGISTRY[model_answer['name']](**model_answer['parameters'])\n",
    "    \n",
    "FUNCTION_REGISTRY['get_date_with_max_delta_price_for_ticker_tool'] = get_date_with_max_delta_price_for_ticker_tool\n",
    "FUNCTION_REGISTRY['get_most_relative_news_tool'] = get_most_relative_news_tool"
   ]
  },
  {
   "cell_type": "code",
   "execution_count": null,
   "id": "a35383f3",
   "metadata": {},
   "outputs": [],
   "source": [
    "lml = ChatTogether(api_key=os.environ[\"TOGETHER_API_KEY\"], model=model)\n",
    "llm = llm.bind_tools([get_date_with_max_delta_price_for_ticker_tool, get_most_relative_news_tool])"
   ]
  },
  {
   "cell_type": "code",
   "execution_count": null,
   "id": "00de8b1d",
   "metadata": {},
   "outputs": [],
   "source": [
    "messages = [\n",
    "    {\"role\": \"system\", \"content\": \"You are a helpful assistant\"},\n",
    "    {\"role\": \"user\", \"content\": \"Tell me when Apple stocks price difference was highest during last month and explain why it was so.\"}\n",
    "]\n",
    "response = llm.invoke(messages)\n",
    "messages.append({\"role\": \"assistant\", \"content\": response.content})"
   ]
  },
  {
   "cell_type": "code",
   "execution_count": null,
   "id": "488fdd23",
   "metadata": {},
   "outputs": [],
   "source": [
    "FUNCTION_REGISTRY[response.tool_calls[0]['name']].invoke(response.tool_calls[0])"
   ]
  }
 ],
 "metadata": {
  "kernelspec": {
   "display_name": ".venv",
   "language": "python",
   "name": "python3"
  },
  "language_info": {
   "codemirror_mode": {
    "name": "ipython",
    "version": 3
   },
   "file_extension": ".py",
   "mimetype": "text/x-python",
   "name": "python",
   "nbconvert_exporter": "python",
   "pygments_lexer": "ipython3",
   "version": "3.10.12"
  }
 },
 "nbformat": 4,
 "nbformat_minor": 5
}
