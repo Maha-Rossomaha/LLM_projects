{
  "cells": [
    {
      "cell_type": "markdown",
      "id": "6c43d3e5",
      "metadata": {},
      "source": [
        "# Contrastive Learning"
      ]
    },
    {
      "cell_type": "markdown",
      "id": "1cb51012",
      "metadata": {},
      "source": [
        "### Dependencies"
      ]
    },
    {
      "cell_type": "code",
      "execution_count": null,
      "id": "9ee97fc5",
      "metadata": {
        "id": "9ee97fc5"
      },
      "outputs": [],
      "source": [
        "import numpy as np\n",
        "import pandas as pd\n",
        "import seaborn as sns\n",
        "from tqdm import tqdm\n",
        "import matplotlib.pyplot as plt\n",
        "from dataclasses import dataclass\n",
        "\n",
        "from sklearn.manifold import TSNE\n",
        "from sklearn.neighbors import KNeighborsClassifier\n",
        "from sklearn.linear_model import LogisticRegression\n",
        "from sklearn.model_selection import train_test_split\n",
        "from sklearn.metrics import accuracy_score, classification_report\n",
        "from sklearn.datasets import make_classification, fetch_20newsgroups\n",
        "\n",
        "import torch\n",
        "from torch import nn\n",
        "import torch.nn.functional as F\n",
        "from sentence_transformers import SentenceTransformer"
      ]
    },
    {
      "cell_type": "markdown",
      "id": "1f041af1",
      "metadata": {},
      "source": [
        "### Data "
      ]
    },
    {
      "cell_type": "code",
      "execution_count": null,
      "id": "ca3d3cb0",
      "metadata": {
        "id": "ca3d3cb0"
      },
      "outputs": [],
      "source": [
        "SEED = 42\n",
        "\n",
        "@dataclass\n",
        "class DatasetConfig:\n",
        "    n_samples: int = 5000\n",
        "    n_features: int = 32\n",
        "    n_classes: int = 8\n",
        "    n_clusters_per_class: int = 2\n",
        "    n_informative: int = 5\n",
        "    random_state: int = SEED\n",
        "\n",
        "@dataclass\n",
        "class SplitConfig:\n",
        "    random_state: int = SEED\n",
        "    test_size: float = 0.25"
      ]
    },
    {
      "cell_type": "code",
      "execution_count": null,
      "id": "7930aa88",
      "metadata": {
        "id": "7930aa88"
      },
      "outputs": [],
      "source": [
        "X, y = make_classification(**DatasetConfig().__dict__)\n",
        "\n",
        "X_train, X_test, y_train, y_test = train_test_split(X, y, **SplitConfig().__dict__)\n",
        "X_train, y_train = torch.from_numpy(X_train).float(), torch.from_numpy(y_train).float()"
      ]
    },
    {
      "cell_type": "markdown",
      "id": "eae9e3c6",
      "metadata": {
        "id": "eae9e3c6"
      },
      "source": [
        "### Visialization"
      ]
    },
    {
      "cell_type": "code",
      "execution_count": null,
      "id": "1faf7c7d",
      "metadata": {
        "colab": {
          "base_uri": "https://localhost:8080/",
          "height": 607
        },
        "id": "1faf7c7d",
        "outputId": "929c7e50-06c8-4b2d-9792-32070cf7fa9f"
      },
      "outputs": [],
      "source": [
        "\n",
        "def plot_tsne(data, labels, **kwargs):\n",
        "    tsne = TSNE(n_components=2, random_state=42, **kwargs)\n",
        "    if isinstance(data, torch.Tensor):\n",
        "        data = data.detach().to(\"cpu\").numpy()\n",
        "    decomposed_data = tsne.fit_transform(data)\n",
        "\n",
        "    plt.figure(figsize=(8, 6))\n",
        "    if isinstance(labels, torch.Tensor):\n",
        "        labels = labels.detach().to(\"cpu\").numpy()\n",
        "    classes = np.unique(labels)\n",
        "    for cls in classes:\n",
        "        idx = labels == cls\n",
        "        plt.scatter(decomposed_data[idx, 0], decomposed_data[idx, 1], label=str(cls.item()), alpha=0.7)\n",
        "    plt.legend(title=\"Label\")\n",
        "    plt.title(\"t-SNE visualization\")\n",
        "    plt.xlabel(\"Dim 1\")\n",
        "    plt.ylabel(\"Dim 2\")\n",
        "    plt.tight_layout()\n",
        "    plt.show()\n",
        "\n",
        "plot_tsne(X_train, y_train)"
      ]
    },
    {
      "cell_type": "markdown",
      "id": "b8107f5b",
      "metadata": {
        "id": "b8107f5b"
      },
      "source": [
        "### Base Classifier"
      ]
    },
    {
      "cell_type": "code",
      "execution_count": null,
      "id": "_7yJPHQ_sJ9X",
      "metadata": {
        "id": "_7yJPHQ_sJ9X"
      },
      "outputs": [],
      "source": [
        "# X_train, y_train = X_train.numpy(), y_train.numpy()\n",
        "# X_test, y_test = X_test.numpy(), y_test.numpy()"
      ]
    },
    {
      "cell_type": "code",
      "execution_count": null,
      "id": "68da79ff",
      "metadata": {
        "colab": {
          "base_uri": "https://localhost:8080/",
          "height": 80
        },
        "id": "68da79ff",
        "outputId": "2d2e0fa1-a542-4107-db02-b96d7a23cfe2"
      },
      "outputs": [],
      "source": [
        "knn = KNeighborsClassifier(n_jobs=-1, n_neighbors=5)\n",
        "knn.fit(X=X_train, y=y_train)\n",
        "\n",
        "train_pred = knn.predict(X_train)\n",
        "test_pred = knn.predict(X_test)\n",
        "\n",
        "accuracy_score(y_train, train_pred), accuracy_score(y_test, test_pred)"
      ]
    },
    {
      "cell_type": "markdown",
      "id": "ee99b99a",
      "metadata": {
        "id": "ee99b99a"
      },
      "source": [
        "###  TripletLoss\n",
        "\n",
        "В случае L2-нормилизованных векторов:\n",
        "\n",
        "$$\\max\\left(0,\\|f(x)-f(x^+)\\|^2_2-\\|f(x)-f(x^-)\\|^2_2+\\varepsilon\\right)=\\max\\left(0,f(x)f^T(x^-)-f(x)f^T(x^+)+\\varepsilon\\right)$$\n",
        "\n",
        "\n",
        "Пусть $D=\\{x_i, y_i\\}_i$ -- выборка классификации. Пусть $S=XX^T$.  \n",
        "Такие $j\\neq i:\\;y_i=y_j$ -- диагональ $S$ вырезается. При этом по матрице $S$ можно сформировать два непересекающихся множества: позитивов $P$ и негативов $N$ (как оставшихся пар, где $y_i\\neq y_j$).  \n",
        "Пусть $L$ -- минимальная мощность этих двух множеств. Возьмем $\\hat{P}=\\{p_i\\}_i$, $\\hat{N}=\\{n_i\\}_i$ как сэмплы размера $L$ из $P$ и $N$ соответственно. Тогда итоговая функция ошибки выглядит так:\n",
        "\n",
        "$$\\mathcal{L}=\\frac{1}{L}\\sum\\limits_{i=1}^L\\max\\left(0, n_i-p_i+\\varepsilon\\right)$$\n",
        "\n",
        "В такой постановке в паре позитивов и негативов не обязательно должен быть один и тот же якорный элемент."
      ]
    },
    {
      "cell_type": "code",
      "execution_count": null,
      "id": "4419cd59",
      "metadata": {
        "id": "4419cd59"
      },
      "outputs": [],
      "source": [
        "class TripletLoss:\n",
        "    def __init__(self, margin, random_state=None):\n",
        "        self.margin = margin\n",
        "        self.random_state = random_state\n",
        "\n",
        "    def __call__(self, x, labels):\n",
        "        x = F.normalize(input=x, dim=1, p=2)\n",
        "\n",
        "        n = x.size(0)\n",
        "        S = (x @ x.T)\n",
        "\n",
        "        mask_diag = torch.eye(n, dtype=torch.bool)\n",
        "        labels = labels.view(-1)\n",
        "\n",
        "        labels = labels.to(\"cpu\")\n",
        "\n",
        "        mask_pos = (labels.unsqueeze(1) == labels.unsqueeze(0)) & (~mask_diag)\n",
        "        mask_neg = (labels.unsqueeze(1) != labels.unsqueeze(0))\n",
        "\n",
        "        pos_indices = mask_pos.nonzero(as_tuple=False)\n",
        "        neg_indices = mask_neg.nonzero(as_tuple=False)\n",
        "\n",
        "        L = min(pos_indices.size(0), neg_indices.size(0))\n",
        "        if L == 0:\n",
        "            return torch.tensor(0.0)\n",
        "\n",
        "        pos_perm = np.random.default_rng(self.random_state).choice(pos_indices.size(0), size=L, replace=False)\n",
        "        neg_perm = np.random.default_rng(self.random_state).choice(neg_indices.size(0), size=L, replace=False)\n",
        "        pos_samples = pos_indices[pos_perm]\n",
        "        neg_samples = neg_indices[neg_perm]\n",
        "\n",
        "        p_vals = S[pos_samples[:,0], pos_samples[:,1]]\n",
        "        n_vals = S[neg_samples[:,0], neg_samples[:,1]]\n",
        "\n",
        "        loss = (n_vals - p_vals + self.margin).clamp(min=0).mean()\n",
        "        return loss"
      ]
    },
    {
      "cell_type": "code",
      "execution_count": null,
      "id": "7c8016e0",
      "metadata": {
        "colab": {
          "base_uri": "https://localhost:8080/"
        },
        "id": "7c8016e0",
        "outputId": "8507c829-976b-4a03-8511-dbf47af55e43"
      },
      "outputs": [],
      "source": [
        "criterion = TripletLoss(0.2, random_state=101)"
      ]
    },
    {
      "cell_type": "markdown",
      "id": "c40ca958",
      "metadata": {
        "id": "c40ca958"
      },
      "source": [
        "### Simple Model"
      ]
    },
    {
      "cell_type": "code",
      "execution_count": null,
      "id": "ef752a01",
      "metadata": {
        "id": "ef752a01"
      },
      "outputs": [],
      "source": [
        "class MLP(nn.Module):\n",
        "    def __init__(\n",
        "        self,\n",
        "        in_dim,\n",
        "        out_dim,\n",
        "        hidden_dim=512,\n",
        "        num_layers=2,\n",
        "        dropout=None\n",
        "    ):\n",
        "        super().__init__()\n",
        "        layers = []\n",
        "        last_dim = in_dim\n",
        "        for _ in range(num_layers):\n",
        "            layers.append(nn.Linear(last_dim, hidden_dim))\n",
        "            layers.append(nn.ReLU())\n",
        "            if dropout is not None:\n",
        "                layers.append(nn.Dropout(dropout))\n",
        "            last_dim = hidden_dim\n",
        "        self.emb = nn.Sequential(*layers)\n",
        "        self.classifier = nn.Linear(hidden_dim, out_dim)\n",
        "\n",
        "    def forward(self, x):\n",
        "        feats = self.emb(x)\n",
        "        logits = self.classifier(feats)\n",
        "\n",
        "        return logits"
      ]
    },
    {
      "cell_type": "code",
      "execution_count": null,
      "id": "Mw91UWO1OYO8",
      "metadata": {
        "id": "Mw91UWO1OYO8"
      },
      "outputs": [],
      "source": [
        "def predict(model, sample, batch_size, device):\n",
        "    if isinstance(sample, np.ndarray):\n",
        "        sample = torch.from_numpy(sample).float()\n",
        "    sample = sample.to('cpu')\n",
        "    n = sample.size(0)\n",
        "    preds = []\n",
        "\n",
        "    model.eval()\n",
        "    with torch.no_grad():\n",
        "        for i in range(0, n, 64):\n",
        "            X_batch = sample[i:i+64].to(device)\n",
        "            embs = model(X_batch).detach().to(\"cpu\")\n",
        "            preds.append(embs)\n",
        "    return torch.cat(preds)"
      ]
    },
    {
      "cell_type": "markdown",
      "id": "c568d5d2",
      "metadata": {},
      "source": [
        "#### Functions"
      ]
    },
    {
      "cell_type": "code",
      "execution_count": null,
      "id": "66166b95",
      "metadata": {
        "id": "66166b95"
      },
      "outputs": [],
      "source": [
        "def domain_adaptation(\n",
        "    model, X, y, X_test, y_test,\n",
        "    epochs=10,\n",
        "    batch_size=64,\n",
        "    lr=1e-3,\n",
        "    margin=0.2,\n",
        "    triplet_weight=0.2,\n",
        "    device='cpu',\n",
        "    random_state=None,\n",
        "):\n",
        "    model = model.to(device)\n",
        "    X = X.to(device)\n",
        "    y = y.to(device)\n",
        "\n",
        "    if isinstance(X_test, np.ndarray):\n",
        "        X_test = torch.from_numpy(X_test).float()\n",
        "    X_test = X_test.to(device)\n",
        "\n",
        "    criterion_triplet = TripletLoss(margin, random_state)\n",
        "    optimizer = torch.optim.Adam(model.parameters(), lr=lr)\n",
        "    train_size = X.size(0)\n",
        "\n",
        "    rng = np.random.default_rng(random_state)\n",
        "    for epoch in tqdm(range(epochs), total=epochs, desc='Обучение'):\n",
        "        model.train()\n",
        "        training_indices = rng.choice(train_size, size=train_size, replace=False)\n",
        "        losses_through_epoch = []\n",
        "        for i in range(0, train_size, batch_size):\n",
        "            batch_indices = training_indices[i:i+batch_size]\n",
        "            X_batch = X[batch_indices]\n",
        "            y_batch = y[batch_indices].long()\n",
        "\n",
        "            optimizer.zero_grad()\n",
        "            logits = model(X_batch)\n",
        "\n",
        "            loss_triplet = criterion_triplet(logits, y_batch)\n",
        "            loss_triplet.backward()\n",
        "\n",
        "            optimizer.step()\n",
        "            losses_through_epoch.append(loss_triplet.item())\n",
        "\n",
        "    return model"
      ]
    },
    {
      "cell_type": "markdown",
      "id": "f7d1c0b1",
      "metadata": {},
      "source": [
        "#### Training"
      ]
    },
    {
      "cell_type": "code",
      "execution_count": null,
      "id": "Et7wontTG0e7",
      "metadata": {
        "id": "Et7wontTG0e7"
      },
      "outputs": [],
      "source": [
        "if not isinstance(X_train, torch.Tensor):\n",
        "    X_train = torch.from_numpy(X_train).float()\n",
        "if not isinstance(y_train, torch.Tensor):\n",
        "    y_train = torch.from_numpy(y_train).float()"
      ]
    },
    {
      "cell_type": "code",
      "execution_count": null,
      "id": "_-aphF1aGsvF",
      "metadata": {
        "colab": {
          "base_uri": "https://localhost:8080/"
        },
        "id": "_-aphF1aGsvF",
        "outputId": "a5b4ae02-18f6-4bb9-e7e3-1b9e9cb8ce79"
      },
      "outputs": [],
      "source": [
        "device = 'cuda:0' if torch.cuda.is_available() else 'cpu'\n",
        "\n",
        "mlp = MLP(in_dim=X_train.shape[1], out_dim=64, hidden_dim=128, num_layers=2, dropout=.2)\n",
        "mlp = domain_adaptation(\n",
        "    mlp, X_train, y_train, X_test, y_test,\n",
        "    epochs=40, batch_size=128, lr=1e-3, device=device, random_state=101\n",
        ")"
      ]
    },
    {
      "cell_type": "markdown",
      "id": "7e1f5d1a",
      "metadata": {
        "id": "7e1f5d1a"
      },
      "source": [
        "#### New visualization"
      ]
    },
    {
      "cell_type": "code",
      "execution_count": null,
      "id": "10d17b3f",
      "metadata": {
        "colab": {
          "base_uri": "https://localhost:8080/",
          "height": 607
        },
        "id": "10d17b3f",
        "outputId": "e26da42e-407c-4e54-f2ee-32f1d8e6255a"
      },
      "outputs": [],
      "source": [
        "train_scored = predict(mlp, X_train, 64, device)\n",
        "test_scored = predict(mlp, X_test, 64, device)\n",
        "plot_tsne(train_scored, y_train)"
      ]
    },
    {
      "cell_type": "code",
      "execution_count": null,
      "id": "_2-_mmyTOmAl",
      "metadata": {
        "colab": {
          "base_uri": "https://localhost:8080/",
          "height": 607
        },
        "id": "_2-_mmyTOmAl",
        "outputId": "9f312e9b-accb-4cde-a68e-60ab76789beb"
      },
      "outputs": [],
      "source": [
        "plot_tsne(test_scored, y_test)"
      ]
    },
    {
      "cell_type": "code",
      "execution_count": null,
      "id": "ae4c9a4f",
      "metadata": {
        "colab": {
          "base_uri": "https://localhost:8080/"
        },
        "id": "ae4c9a4f",
        "outputId": "88745dfb-28c8-4bfd-9b30-8154a7133016"
      },
      "outputs": [],
      "source": [
        "knn = KNeighborsClassifier(n_jobs=-1, n_neighbors=5)\n",
        "knn.fit(X=train_scored, y=y_train)\n",
        "\n",
        "train_pred = knn.predict(train_scored)\n",
        "test_pred = knn.predict(test_scored)\n",
        "\n",
        "accuracy_score(y_train, train_pred), accuracy_score(y_test, test_pred)"
      ]
    },
    {
      "cell_type": "markdown",
      "id": "ab4ebac6",
      "metadata": {
        "id": "ab4ebac6"
      },
      "source": [
        "### Real dataset"
      ]
    },
    {
      "cell_type": "code",
      "execution_count": null,
      "id": "13c6f0a7",
      "metadata": {
        "id": "13c6f0a7"
      },
      "outputs": [],
      "source": [
        "categories = [\n",
        "    \"sci.space\",\n",
        "    \"sci.med\",\n",
        "    \"sci.electronics\",\n",
        "    \"comp.os.ms-windows.misc\",\n",
        "    \"comp.sys.ibm.pc.hardware\",\n",
        "    \"comp.sys.mac.hardware\"\n",
        "]\n",
        "\n",
        "newsgroups_train = fetch_20newsgroups(subset=\"train\", categories=categories)\n",
        "newsgroups_test = fetch_20newsgroups(subset=\"test\", categories=categories)\n",
        "\n",
        "X_train = newsgroups_train.data\n",
        "X_test = newsgroups_test.data\n",
        "\n",
        "y_train = newsgroups_train.target\n",
        "y_test = newsgroups_test.target"
      ]
    },
    {
      "cell_type": "code",
      "execution_count": null,
      "id": "980b152d",
      "metadata": {
        "id": "980b152d"
      },
      "outputs": [],
      "source": [
        "def test_logreg(X_train_mapped, y_train, X_test_mapped, y_test, target_names=newsgroups_test.target_names):\n",
        "    clf = LogisticRegression(max_iter=10000)\n",
        "    clf.fit(X_train_mapped, y_train)\n",
        "\n",
        "    y_pred = clf.predict(X_test_mapped)\n",
        "    score = accuracy_score(y_test, y_pred)\n",
        "    report = classification_report(y_test, y_pred, target_names=target_names)\n",
        "\n",
        "    print(f\"Accuracy: {score:.3f}\")\n",
        "    print(f\"Classification Report: {report}\")"
      ]
    },
    {
      "cell_type": "markdown",
      "id": "529cb30a",
      "metadata": {
        "id": "529cb30a"
      },
      "source": [
        "#### Real model"
      ]
    },
    {
      "cell_type": "code",
      "execution_count": null,
      "id": "33816bc1",
      "metadata": {
        "colab": {
          "base_uri": "https://localhost:8080/"
        },
        "id": "33816bc1",
        "outputId": "7791e580-5caf-477f-e307-794db0f8b055"
      },
      "outputs": [],
      "source": [
        "device = 'cuda:0' if torch.cuda.is_available() else 'cpu'\n",
        "st_model = SentenceTransformer(\n",
        "    \"sentence-transformers/all-MiniLM-L6-v2\",\n",
        "    device=device\n",
        ")\n",
        "\n",
        "st_model.eval()\n",
        "\n",
        "preds = []\n",
        "with torch.no_grad():\n",
        "    for i in tqdm(range(0, len(X_train), 64)):\n",
        "        X_batch = X_train[i:i+64]\n",
        "        embs = st_model.encode(X_batch, device='cpu') # Надо было с return_tensors=\"pt\"\n",
        "        preds.append(embs)\n",
        "        torch.cuda.empty_cache()\n",
        "train_embeds = torch.cat([torch.from_numpy(pred) for pred in preds])\n",
        "\n",
        "preds = []\n",
        "with torch.no_grad():\n",
        "    for i in tqdm(range(0, len(X_test), 64)):\n",
        "        X_batch = X_test[i:i+64]\n",
        "        embs = st_model.encode(X_batch, device='cpu')\n",
        "        preds.append(embs)\n",
        "        torch.cuda.empty_cache()\n",
        "test_embeds = torch.cat([torch.from_numpy(pred) for pred in preds])"
      ]
    },
    {
      "cell_type": "code",
      "execution_count": null,
      "id": "8FHDADNOVZwx",
      "metadata": {
        "colab": {
          "base_uri": "https://localhost:8080/",
          "height": 607
        },
        "id": "8FHDADNOVZwx",
        "outputId": "55cf243a-e3e8-49e5-880f-4dad8ec4a19b"
      },
      "outputs": [],
      "source": [
        "plot_tsne(train_embeds, y_train)"
      ]
    },
    {
      "cell_type": "code",
      "execution_count": null,
      "id": "5-UgGvwdVeBe",
      "metadata": {
        "colab": {
          "base_uri": "https://localhost:8080/",
          "height": 607
        },
        "id": "5-UgGvwdVeBe",
        "outputId": "776e377d-56f9-489f-c826-ffcbf92c5784"
      },
      "outputs": [],
      "source": [
        "plot_tsne(test_embeds, y_test)"
      ]
    },
    {
      "cell_type": "code",
      "execution_count": null,
      "id": "e24LnipTe0eC",
      "metadata": {
        "colab": {
          "base_uri": "https://localhost:8080/"
        },
        "id": "e24LnipTe0eC",
        "outputId": "cf129be3-a0ba-48b4-a0ae-1bae748a6629"
      },
      "outputs": [],
      "source": [
        "knn = KNeighborsClassifier(n_jobs=-1, n_neighbors=5)\n",
        "knn.fit(X=train_embeds, y=y_train)\n",
        "\n",
        "train_pred = knn.predict(train_embeds)\n",
        "test_pred = knn.predict(test_embeds)\n",
        "\n",
        "accuracy_score(y_train, train_pred), accuracy_score(y_test, test_pred)"
      ]
    },
    {
      "cell_type": "markdown",
      "id": "fcd31de0",
      "metadata": {
        "id": "fcd31de0"
      },
      "source": [
        "#### Embeddings adaptation"
      ]
    },
    {
      "cell_type": "code",
      "execution_count": null,
      "id": "pltuxPT3fNop",
      "metadata": {
        "id": "pltuxPT3fNop"
      },
      "outputs": [],
      "source": [
        "y_train = torch.from_numpy(y_train)\n",
        "y_test = torch.from_numpy(y_test)"
      ]
    },
    {
      "cell_type": "code",
      "execution_count": null,
      "id": "7b25d7db",
      "metadata": {
        "colab": {
          "base_uri": "https://localhost:8080/"
        },
        "id": "7b25d7db",
        "outputId": "8933cc9d-e03d-41d7-8d80-c82324b7f3c2"
      },
      "outputs": [],
      "source": [
        "mlp = MLP(in_dim=train_embeds.shape[1], out_dim=64, hidden_dim=128, num_layers=2, dropout=.2)\n",
        "mlp = domain_adaptation(\n",
        "    mlp, train_embeds, y_train, test_embeds, y_test,\n",
        "    epochs=40, batch_size=128, lr=1e-3, device=device, random_state=101\n",
        ")"
      ]
    },
    {
      "cell_type": "markdown",
      "id": "1215b3a5",
      "metadata": {
        "id": "1215b3a5"
      },
      "source": [
        "#### New experiment metrics"
      ]
    },
    {
      "cell_type": "code",
      "execution_count": null,
      "id": "Mt0TmEqvd_RN",
      "metadata": {
        "colab": {
          "base_uri": "https://localhost:8080/",
          "height": 607
        },
        "id": "Mt0TmEqvd_RN",
        "outputId": "626eee7f-2656-4e56-81c0-1eeba1e4a85e"
      },
      "outputs": [],
      "source": [
        "train_scored = predict(mlp, train_embeds, 64, device)\n",
        "test_scored = predict(mlp, test_embeds, 64, device)\n",
        "plot_tsne(train_scored, y_train)"
      ]
    },
    {
      "cell_type": "code",
      "execution_count": null,
      "id": "kJGc7xgUeDdn",
      "metadata": {
        "colab": {
          "base_uri": "https://localhost:8080/",
          "height": 607
        },
        "id": "kJGc7xgUeDdn",
        "outputId": "a5854125-da7c-41a6-cd9b-8e7a42f50b45"
      },
      "outputs": [],
      "source": [
        "plot_tsne(test_scored, y_test)"
      ]
    },
    {
      "cell_type": "code",
      "execution_count": null,
      "id": "35eddd8b",
      "metadata": {
        "colab": {
          "base_uri": "https://localhost:8080/"
        },
        "id": "35eddd8b",
        "outputId": "07e5b80c-13c4-4520-e050-dd51288b9e9f"
      },
      "outputs": [],
      "source": [
        "knn = KNeighborsClassifier(n_jobs=-1, n_neighbors=5)\n",
        "knn.fit(X=train_scored, y=y_train)\n",
        "\n",
        "train_pred = knn.predict(train_scored)\n",
        "test_pred = knn.predict(test_scored)\n",
        "\n",
        "accuracy_score(y_train, train_pred), accuracy_score(y_test, test_pred)"
      ]
    }
  ],
  "metadata": {
    "accelerator": "GPU",
    "colab": {
      "gpuType": "T4",
      "provenance": []
    },
    "kernelspec": {
      "display_name": "Python 3",
      "name": "python3"
    },
    "language_info": {
      "codemirror_mode": {
        "name": "ipython",
        "version": 3
      },
      "file_extension": ".py",
      "mimetype": "text/x-python",
      "name": "python",
      "nbconvert_exporter": "python",
      "pygments_lexer": "ipython3",
      "version": "3.12.9"
    },
    "widgets": {
      "application/vnd.jupyter.widget-state+json": {
        "030a85d238934e3d85a3f276f6014bf2": {
          "model_module": "@jupyter-widgets/controls",
          "model_module_version": "1.5.0",
          "model_name": "ProgressStyleModel",
          "state": {
            "_model_module": "@jupyter-widgets/controls",
            "_model_module_version": "1.5.0",
            "_model_name": "ProgressStyleModel",
            "_view_count": null,
            "_view_module": "@jupyter-widgets/base",
            "_view_module_version": "1.2.0",
            "_view_name": "StyleView",
            "bar_color": null,
            "description_width": ""
          }
        },
        "0bbfe849515c4dba905bfa5bbc1a9823": {
          "model_module": "@jupyter-widgets/controls",
          "model_module_version": "1.5.0",
          "model_name": "DescriptionStyleModel",
          "state": {
            "_model_module": "@jupyter-widgets/controls",
            "_model_module_version": "1.5.0",
            "_model_name": "DescriptionStyleModel",
            "_view_count": null,
            "_view_module": "@jupyter-widgets/base",
            "_view_module_version": "1.2.0",
            "_view_name": "StyleView",
            "description_width": ""
          }
        },
        "0f7111ffecf2496c83f87d3d85781aac": {
          "model_module": "@jupyter-widgets/controls",
          "model_module_version": "1.5.0",
          "model_name": "ProgressStyleModel",
          "state": {
            "_model_module": "@jupyter-widgets/controls",
            "_model_module_version": "1.5.0",
            "_model_name": "ProgressStyleModel",
            "_view_count": null,
            "_view_module": "@jupyter-widgets/base",
            "_view_module_version": "1.2.0",
            "_view_name": "StyleView",
            "bar_color": null,
            "description_width": ""
          }
        },
        "17bafc65bda74affb2aff164be303c04": {
          "model_module": "@jupyter-widgets/controls",
          "model_module_version": "1.5.0",
          "model_name": "DescriptionStyleModel",
          "state": {
            "_model_module": "@jupyter-widgets/controls",
            "_model_module_version": "1.5.0",
            "_model_name": "DescriptionStyleModel",
            "_view_count": null,
            "_view_module": "@jupyter-widgets/base",
            "_view_module_version": "1.2.0",
            "_view_name": "StyleView",
            "description_width": ""
          }
        },
        "2148ea27ef7b4d6d84f4e7c53fb024e6": {
          "model_module": "@jupyter-widgets/controls",
          "model_module_version": "1.5.0",
          "model_name": "DescriptionStyleModel",
          "state": {
            "_model_module": "@jupyter-widgets/controls",
            "_model_module_version": "1.5.0",
            "_model_name": "DescriptionStyleModel",
            "_view_count": null,
            "_view_module": "@jupyter-widgets/base",
            "_view_module_version": "1.2.0",
            "_view_name": "StyleView",
            "description_width": ""
          }
        },
        "22664fc9b66445728ce296b60ddc68c7": {
          "model_module": "@jupyter-widgets/controls",
          "model_module_version": "1.5.0",
          "model_name": "FloatProgressModel",
          "state": {
            "_dom_classes": [],
            "_model_module": "@jupyter-widgets/controls",
            "_model_module_version": "1.5.0",
            "_model_name": "FloatProgressModel",
            "_view_count": null,
            "_view_module": "@jupyter-widgets/controls",
            "_view_module_version": "1.5.0",
            "_view_name": "ProgressView",
            "bar_style": "success",
            "description": "",
            "description_tooltip": null,
            "layout": "IPY_MODEL_c08efb48bbff4ee094cceb2380464de1",
            "max": 2464616,
            "min": 0,
            "orientation": "horizontal",
            "style": "IPY_MODEL_d386cd31b9c544b19c092f9498156ec1",
            "value": 2464616
          }
        },
        "24090e3deef6407e9593bc4f84128fc4": {
          "model_module": "@jupyter-widgets/controls",
          "model_module_version": "1.5.0",
          "model_name": "DescriptionStyleModel",
          "state": {
            "_model_module": "@jupyter-widgets/controls",
            "_model_module_version": "1.5.0",
            "_model_name": "DescriptionStyleModel",
            "_view_count": null,
            "_view_module": "@jupyter-widgets/base",
            "_view_module_version": "1.2.0",
            "_view_name": "StyleView",
            "description_width": ""
          }
        },
        "28e28749768f4de4ad978ea03d65d9c1": {
          "model_module": "@jupyter-widgets/controls",
          "model_module_version": "1.5.0",
          "model_name": "DescriptionStyleModel",
          "state": {
            "_model_module": "@jupyter-widgets/controls",
            "_model_module_version": "1.5.0",
            "_model_name": "DescriptionStyleModel",
            "_view_count": null,
            "_view_module": "@jupyter-widgets/base",
            "_view_module_version": "1.2.0",
            "_view_name": "StyleView",
            "description_width": ""
          }
        },
        "337cef1250df4b52a193022d191fdb40": {
          "model_module": "@jupyter-widgets/base",
          "model_module_version": "1.2.0",
          "model_name": "LayoutModel",
          "state": {
            "_model_module": "@jupyter-widgets/base",
            "_model_module_version": "1.2.0",
            "_model_name": "LayoutModel",
            "_view_count": null,
            "_view_module": "@jupyter-widgets/base",
            "_view_module_version": "1.2.0",
            "_view_name": "LayoutView",
            "align_content": null,
            "align_items": null,
            "align_self": null,
            "border": null,
            "bottom": null,
            "display": null,
            "flex": null,
            "flex_flow": null,
            "grid_area": null,
            "grid_auto_columns": null,
            "grid_auto_flow": null,
            "grid_auto_rows": null,
            "grid_column": null,
            "grid_gap": null,
            "grid_row": null,
            "grid_template_areas": null,
            "grid_template_columns": null,
            "grid_template_rows": null,
            "height": null,
            "justify_content": null,
            "justify_items": null,
            "left": null,
            "margin": null,
            "max_height": null,
            "max_width": null,
            "min_height": null,
            "min_width": null,
            "object_fit": null,
            "object_position": null,
            "order": null,
            "overflow": null,
            "overflow_x": null,
            "overflow_y": null,
            "padding": null,
            "right": null,
            "top": null,
            "visibility": null,
            "width": null
          }
        },
        "378449bea70f42618323b7b3213cc53e": {
          "model_module": "@jupyter-widgets/controls",
          "model_module_version": "1.5.0",
          "model_name": "HTMLModel",
          "state": {
            "_dom_classes": [],
            "_model_module": "@jupyter-widgets/controls",
            "_model_module_version": "1.5.0",
            "_model_name": "HTMLModel",
            "_view_count": null,
            "_view_module": "@jupyter-widgets/controls",
            "_view_module_version": "1.5.0",
            "_view_name": "HTMLView",
            "description": "",
            "description_tooltip": null,
            "layout": "IPY_MODEL_9644fc94b0ca43189ea6c390e8ff8098",
            "placeholder": "​",
            "style": "IPY_MODEL_adb95d9c650e4effb910858f87ab3794",
            "value": "model.safetensors: 100%"
          }
        },
        "39b90916b0744f9db94c538307b326cc": {
          "model_module": "@jupyter-widgets/controls",
          "model_module_version": "1.5.0",
          "model_name": "HBoxModel",
          "state": {
            "_dom_classes": [],
            "_model_module": "@jupyter-widgets/controls",
            "_model_module_version": "1.5.0",
            "_model_name": "HBoxModel",
            "_view_count": null,
            "_view_module": "@jupyter-widgets/controls",
            "_view_module_version": "1.5.0",
            "_view_name": "HBoxView",
            "box_style": "",
            "children": [
              "IPY_MODEL_e4dad0a0050d4751a47b4149b8c55db8",
              "IPY_MODEL_de807830b25f4ed99fed3b2211fb636b",
              "IPY_MODEL_84e7832564504f5bb283175a6d60b07a"
            ],
            "layout": "IPY_MODEL_af0b73d67e46440da7b4b0d3caeea23c"
          }
        },
        "3a5b3dae365f4a85a0932d7c80deb57c": {
          "model_module": "@jupyter-widgets/controls",
          "model_module_version": "1.5.0",
          "model_name": "DescriptionStyleModel",
          "state": {
            "_model_module": "@jupyter-widgets/controls",
            "_model_module_version": "1.5.0",
            "_model_name": "DescriptionStyleModel",
            "_view_count": null,
            "_view_module": "@jupyter-widgets/base",
            "_view_module_version": "1.2.0",
            "_view_name": "StyleView",
            "description_width": ""
          }
        },
        "3e2bdfc58d30409480c4bd81f3c361dc": {
          "model_module": "@jupyter-widgets/controls",
          "model_module_version": "1.5.0",
          "model_name": "HBoxModel",
          "state": {
            "_dom_classes": [],
            "_model_module": "@jupyter-widgets/controls",
            "_model_module_version": "1.5.0",
            "_model_name": "HBoxModel",
            "_view_count": null,
            "_view_module": "@jupyter-widgets/controls",
            "_view_module_version": "1.5.0",
            "_view_name": "HBoxView",
            "box_style": "",
            "children": [
              "IPY_MODEL_81dd1f240d174721b73d766eae000b45",
              "IPY_MODEL_9a39bdcb181c4f18885e3282e4573432",
              "IPY_MODEL_b656a2a583794d679b35ec8654f859c7"
            ],
            "layout": "IPY_MODEL_9db28f7cf57a4390bc711b1ec800e7a6"
          }
        },
        "46766cf006744fb892c2ea0a5fb6d74c": {
          "model_module": "@jupyter-widgets/base",
          "model_module_version": "1.2.0",
          "model_name": "LayoutModel",
          "state": {
            "_model_module": "@jupyter-widgets/base",
            "_model_module_version": "1.2.0",
            "_model_name": "LayoutModel",
            "_view_count": null,
            "_view_module": "@jupyter-widgets/base",
            "_view_module_version": "1.2.0",
            "_view_name": "LayoutView",
            "align_content": null,
            "align_items": null,
            "align_self": null,
            "border": null,
            "bottom": null,
            "display": null,
            "flex": null,
            "flex_flow": null,
            "grid_area": null,
            "grid_auto_columns": null,
            "grid_auto_flow": null,
            "grid_auto_rows": null,
            "grid_column": null,
            "grid_gap": null,
            "grid_row": null,
            "grid_template_areas": null,
            "grid_template_columns": null,
            "grid_template_rows": null,
            "height": null,
            "justify_content": null,
            "justify_items": null,
            "left": null,
            "margin": null,
            "max_height": null,
            "max_width": null,
            "min_height": null,
            "min_width": null,
            "object_fit": null,
            "object_position": null,
            "order": null,
            "overflow": null,
            "overflow_x": null,
            "overflow_y": null,
            "padding": null,
            "right": null,
            "top": null,
            "visibility": null,
            "width": null
          }
        },
        "47bd8fe8324748268b550c153c952f2c": {
          "model_module": "@jupyter-widgets/base",
          "model_module_version": "1.2.0",
          "model_name": "LayoutModel",
          "state": {
            "_model_module": "@jupyter-widgets/base",
            "_model_module_version": "1.2.0",
            "_model_name": "LayoutModel",
            "_view_count": null,
            "_view_module": "@jupyter-widgets/base",
            "_view_module_version": "1.2.0",
            "_view_name": "LayoutView",
            "align_content": null,
            "align_items": null,
            "align_self": null,
            "border": null,
            "bottom": null,
            "display": null,
            "flex": null,
            "flex_flow": null,
            "grid_area": null,
            "grid_auto_columns": null,
            "grid_auto_flow": null,
            "grid_auto_rows": null,
            "grid_column": null,
            "grid_gap": null,
            "grid_row": null,
            "grid_template_areas": null,
            "grid_template_columns": null,
            "grid_template_rows": null,
            "height": null,
            "justify_content": null,
            "justify_items": null,
            "left": null,
            "margin": null,
            "max_height": null,
            "max_width": null,
            "min_height": null,
            "min_width": null,
            "object_fit": null,
            "object_position": null,
            "order": null,
            "overflow": null,
            "overflow_x": null,
            "overflow_y": null,
            "padding": null,
            "right": null,
            "top": null,
            "visibility": null,
            "width": null
          }
        },
        "526da3551dac4814a213c20299380b6b": {
          "model_module": "@jupyter-widgets/controls",
          "model_module_version": "1.5.0",
          "model_name": "HTMLModel",
          "state": {
            "_dom_classes": [],
            "_model_module": "@jupyter-widgets/controls",
            "_model_module_version": "1.5.0",
            "_model_name": "HTMLModel",
            "_view_count": null,
            "_view_module": "@jupyter-widgets/controls",
            "_view_module_version": "1.5.0",
            "_view_name": "HTMLView",
            "description": "",
            "description_tooltip": null,
            "layout": "IPY_MODEL_46766cf006744fb892c2ea0a5fb6d74c",
            "placeholder": "​",
            "style": "IPY_MODEL_e675d0a857dc4b0182171ef1c2dcbc10",
            "value": " 286M/286M [00:01&lt;00:00, 150MB/s]"
          }
        },
        "53b6db0726e741c7a0f6e0afb0edbe09": {
          "model_module": "@jupyter-widgets/base",
          "model_module_version": "1.2.0",
          "model_name": "LayoutModel",
          "state": {
            "_model_module": "@jupyter-widgets/base",
            "_model_module_version": "1.2.0",
            "_model_name": "LayoutModel",
            "_view_count": null,
            "_view_module": "@jupyter-widgets/base",
            "_view_module_version": "1.2.0",
            "_view_name": "LayoutView",
            "align_content": null,
            "align_items": null,
            "align_self": null,
            "border": null,
            "bottom": null,
            "display": null,
            "flex": null,
            "flex_flow": null,
            "grid_area": null,
            "grid_auto_columns": null,
            "grid_auto_flow": null,
            "grid_auto_rows": null,
            "grid_column": null,
            "grid_gap": null,
            "grid_row": null,
            "grid_template_areas": null,
            "grid_template_columns": null,
            "grid_template_rows": null,
            "height": null,
            "justify_content": null,
            "justify_items": null,
            "left": null,
            "margin": null,
            "max_height": null,
            "max_width": null,
            "min_height": null,
            "min_width": null,
            "object_fit": null,
            "object_position": null,
            "order": null,
            "overflow": null,
            "overflow_x": null,
            "overflow_y": null,
            "padding": null,
            "right": null,
            "top": null,
            "visibility": null,
            "width": null
          }
        },
        "65936153e0614650be14988b439f7566": {
          "model_module": "@jupyter-widgets/base",
          "model_module_version": "1.2.0",
          "model_name": "LayoutModel",
          "state": {
            "_model_module": "@jupyter-widgets/base",
            "_model_module_version": "1.2.0",
            "_model_name": "LayoutModel",
            "_view_count": null,
            "_view_module": "@jupyter-widgets/base",
            "_view_module_version": "1.2.0",
            "_view_name": "LayoutView",
            "align_content": null,
            "align_items": null,
            "align_self": null,
            "border": null,
            "bottom": null,
            "display": null,
            "flex": null,
            "flex_flow": null,
            "grid_area": null,
            "grid_auto_columns": null,
            "grid_auto_flow": null,
            "grid_auto_rows": null,
            "grid_column": null,
            "grid_gap": null,
            "grid_row": null,
            "grid_template_areas": null,
            "grid_template_columns": null,
            "grid_template_rows": null,
            "height": null,
            "justify_content": null,
            "justify_items": null,
            "left": null,
            "margin": null,
            "max_height": null,
            "max_width": null,
            "min_height": null,
            "min_width": null,
            "object_fit": null,
            "object_position": null,
            "order": null,
            "overflow": null,
            "overflow_x": null,
            "overflow_y": null,
            "padding": null,
            "right": null,
            "top": null,
            "visibility": null,
            "width": null
          }
        },
        "6757bce9961a450e97788c36de519b03": {
          "model_module": "@jupyter-widgets/controls",
          "model_module_version": "1.5.0",
          "model_name": "FloatProgressModel",
          "state": {
            "_dom_classes": [],
            "_model_module": "@jupyter-widgets/controls",
            "_model_module_version": "1.5.0",
            "_model_name": "FloatProgressModel",
            "_view_count": null,
            "_view_module": "@jupyter-widgets/controls",
            "_view_module_version": "1.5.0",
            "_view_name": "ProgressView",
            "bar_style": "success",
            "description": "",
            "description_tooltip": null,
            "layout": "IPY_MODEL_e4d21d9c2b65499c9c937738148fa49c",
            "max": 286059269,
            "min": 0,
            "orientation": "horizontal",
            "style": "IPY_MODEL_a627cdb2568d47e0a783fe3e8574f3e1",
            "value": 286059269
          }
        },
        "81dd1f240d174721b73d766eae000b45": {
          "model_module": "@jupyter-widgets/controls",
          "model_module_version": "1.5.0",
          "model_name": "HTMLModel",
          "state": {
            "_dom_classes": [],
            "_model_module": "@jupyter-widgets/controls",
            "_model_module_version": "1.5.0",
            "_model_name": "HTMLModel",
            "_view_count": null,
            "_view_module": "@jupyter-widgets/controls",
            "_view_module_version": "1.5.0",
            "_view_name": "HTMLView",
            "description": "",
            "description_tooltip": null,
            "layout": "IPY_MODEL_337cef1250df4b52a193022d191fdb40",
            "placeholder": "​",
            "style": "IPY_MODEL_17bafc65bda74affb2aff164be303c04",
            "value": "tokenizer_config.json: 100%"
          }
        },
        "82dd6c0121814f048e06d0a142dbc6ab": {
          "model_module": "@jupyter-widgets/base",
          "model_module_version": "1.2.0",
          "model_name": "LayoutModel",
          "state": {
            "_model_module": "@jupyter-widgets/base",
            "_model_module_version": "1.2.0",
            "_model_name": "LayoutModel",
            "_view_count": null,
            "_view_module": "@jupyter-widgets/base",
            "_view_module_version": "1.2.0",
            "_view_name": "LayoutView",
            "align_content": null,
            "align_items": null,
            "align_self": null,
            "border": null,
            "bottom": null,
            "display": null,
            "flex": null,
            "flex_flow": null,
            "grid_area": null,
            "grid_auto_columns": null,
            "grid_auto_flow": null,
            "grid_auto_rows": null,
            "grid_column": null,
            "grid_gap": null,
            "grid_row": null,
            "grid_template_areas": null,
            "grid_template_columns": null,
            "grid_template_rows": null,
            "height": null,
            "justify_content": null,
            "justify_items": null,
            "left": null,
            "margin": null,
            "max_height": null,
            "max_width": null,
            "min_height": null,
            "min_width": null,
            "object_fit": null,
            "object_position": null,
            "order": null,
            "overflow": null,
            "overflow_x": null,
            "overflow_y": null,
            "padding": null,
            "right": null,
            "top": null,
            "visibility": null,
            "width": null
          }
        },
        "84e7832564504f5bb283175a6d60b07a": {
          "model_module": "@jupyter-widgets/controls",
          "model_module_version": "1.5.0",
          "model_name": "HTMLModel",
          "state": {
            "_dom_classes": [],
            "_model_module": "@jupyter-widgets/controls",
            "_model_module_version": "1.5.0",
            "_model_name": "HTMLModel",
            "_view_count": null,
            "_view_module": "@jupyter-widgets/controls",
            "_view_module_version": "1.5.0",
            "_view_name": "HTMLView",
            "description": "",
            "description_tooltip": null,
            "layout": "IPY_MODEL_ac5f32fe98634a4fa7e93d6ee01353dc",
            "placeholder": "​",
            "style": "IPY_MODEL_0bbfe849515c4dba905bfa5bbc1a9823",
            "value": " 578/578 [00:00&lt;00:00, 42.1kB/s]"
          }
        },
        "8cdec43ef5274aed9662644ceedd6326": {
          "model_module": "@jupyter-widgets/controls",
          "model_module_version": "1.5.0",
          "model_name": "HTMLModel",
          "state": {
            "_dom_classes": [],
            "_model_module": "@jupyter-widgets/controls",
            "_model_module_version": "1.5.0",
            "_model_name": "HTMLModel",
            "_view_count": null,
            "_view_module": "@jupyter-widgets/controls",
            "_view_module_version": "1.5.0",
            "_view_name": "HTMLView",
            "description": "",
            "description_tooltip": null,
            "layout": "IPY_MODEL_82dd6c0121814f048e06d0a142dbc6ab",
            "placeholder": "​",
            "style": "IPY_MODEL_2148ea27ef7b4d6d84f4e7c53fb024e6",
            "value": " 286M/286M [00:00&lt;00:00, 405MB/s]"
          }
        },
        "90f0ae6d45a24c1fb6353206dd0f7e2b": {
          "model_module": "@jupyter-widgets/base",
          "model_module_version": "1.2.0",
          "model_name": "LayoutModel",
          "state": {
            "_model_module": "@jupyter-widgets/base",
            "_model_module_version": "1.2.0",
            "_model_name": "LayoutModel",
            "_view_count": null,
            "_view_module": "@jupyter-widgets/base",
            "_view_module_version": "1.2.0",
            "_view_name": "LayoutView",
            "align_content": null,
            "align_items": null,
            "align_self": null,
            "border": null,
            "bottom": null,
            "display": null,
            "flex": null,
            "flex_flow": null,
            "grid_area": null,
            "grid_auto_columns": null,
            "grid_auto_flow": null,
            "grid_auto_rows": null,
            "grid_column": null,
            "grid_gap": null,
            "grid_row": null,
            "grid_template_areas": null,
            "grid_template_columns": null,
            "grid_template_rows": null,
            "height": null,
            "justify_content": null,
            "justify_items": null,
            "left": null,
            "margin": null,
            "max_height": null,
            "max_width": null,
            "min_height": null,
            "min_width": null,
            "object_fit": null,
            "object_position": null,
            "order": null,
            "overflow": null,
            "overflow_x": null,
            "overflow_y": null,
            "padding": null,
            "right": null,
            "top": null,
            "visibility": null,
            "width": null
          }
        },
        "93470a8081804f98a044d60c06ff941b": {
          "model_module": "@jupyter-widgets/base",
          "model_module_version": "1.2.0",
          "model_name": "LayoutModel",
          "state": {
            "_model_module": "@jupyter-widgets/base",
            "_model_module_version": "1.2.0",
            "_model_name": "LayoutModel",
            "_view_count": null,
            "_view_module": "@jupyter-widgets/base",
            "_view_module_version": "1.2.0",
            "_view_name": "LayoutView",
            "align_content": null,
            "align_items": null,
            "align_self": null,
            "border": null,
            "bottom": null,
            "display": null,
            "flex": null,
            "flex_flow": null,
            "grid_area": null,
            "grid_auto_columns": null,
            "grid_auto_flow": null,
            "grid_auto_rows": null,
            "grid_column": null,
            "grid_gap": null,
            "grid_row": null,
            "grid_template_areas": null,
            "grid_template_columns": null,
            "grid_template_rows": null,
            "height": null,
            "justify_content": null,
            "justify_items": null,
            "left": null,
            "margin": null,
            "max_height": null,
            "max_width": null,
            "min_height": null,
            "min_width": null,
            "object_fit": null,
            "object_position": null,
            "order": null,
            "overflow": null,
            "overflow_x": null,
            "overflow_y": null,
            "padding": null,
            "right": null,
            "top": null,
            "visibility": null,
            "width": null
          }
        },
        "9644fc94b0ca43189ea6c390e8ff8098": {
          "model_module": "@jupyter-widgets/base",
          "model_module_version": "1.2.0",
          "model_name": "LayoutModel",
          "state": {
            "_model_module": "@jupyter-widgets/base",
            "_model_module_version": "1.2.0",
            "_model_name": "LayoutModel",
            "_view_count": null,
            "_view_module": "@jupyter-widgets/base",
            "_view_module_version": "1.2.0",
            "_view_name": "LayoutView",
            "align_content": null,
            "align_items": null,
            "align_self": null,
            "border": null,
            "bottom": null,
            "display": null,
            "flex": null,
            "flex_flow": null,
            "grid_area": null,
            "grid_auto_columns": null,
            "grid_auto_flow": null,
            "grid_auto_rows": null,
            "grid_column": null,
            "grid_gap": null,
            "grid_row": null,
            "grid_template_areas": null,
            "grid_template_columns": null,
            "grid_template_rows": null,
            "height": null,
            "justify_content": null,
            "justify_items": null,
            "left": null,
            "margin": null,
            "max_height": null,
            "max_width": null,
            "min_height": null,
            "min_width": null,
            "object_fit": null,
            "object_position": null,
            "order": null,
            "overflow": null,
            "overflow_x": null,
            "overflow_y": null,
            "padding": null,
            "right": null,
            "top": null,
            "visibility": null,
            "width": null
          }
        },
        "97d6eb2aac884fe9a8f03136b4970639": {
          "model_module": "@jupyter-widgets/base",
          "model_module_version": "1.2.0",
          "model_name": "LayoutModel",
          "state": {
            "_model_module": "@jupyter-widgets/base",
            "_model_module_version": "1.2.0",
            "_model_name": "LayoutModel",
            "_view_count": null,
            "_view_module": "@jupyter-widgets/base",
            "_view_module_version": "1.2.0",
            "_view_name": "LayoutView",
            "align_content": null,
            "align_items": null,
            "align_self": null,
            "border": null,
            "bottom": null,
            "display": null,
            "flex": null,
            "flex_flow": null,
            "grid_area": null,
            "grid_auto_columns": null,
            "grid_auto_flow": null,
            "grid_auto_rows": null,
            "grid_column": null,
            "grid_gap": null,
            "grid_row": null,
            "grid_template_areas": null,
            "grid_template_columns": null,
            "grid_template_rows": null,
            "height": null,
            "justify_content": null,
            "justify_items": null,
            "left": null,
            "margin": null,
            "max_height": null,
            "max_width": null,
            "min_height": null,
            "min_width": null,
            "object_fit": null,
            "object_position": null,
            "order": null,
            "overflow": null,
            "overflow_x": null,
            "overflow_y": null,
            "padding": null,
            "right": null,
            "top": null,
            "visibility": null,
            "width": null
          }
        },
        "99850b502ce545b19fbb352c4b9b9443": {
          "model_module": "@jupyter-widgets/base",
          "model_module_version": "1.2.0",
          "model_name": "LayoutModel",
          "state": {
            "_model_module": "@jupyter-widgets/base",
            "_model_module_version": "1.2.0",
            "_model_name": "LayoutModel",
            "_view_count": null,
            "_view_module": "@jupyter-widgets/base",
            "_view_module_version": "1.2.0",
            "_view_name": "LayoutView",
            "align_content": null,
            "align_items": null,
            "align_self": null,
            "border": null,
            "bottom": null,
            "display": null,
            "flex": null,
            "flex_flow": null,
            "grid_area": null,
            "grid_auto_columns": null,
            "grid_auto_flow": null,
            "grid_auto_rows": null,
            "grid_column": null,
            "grid_gap": null,
            "grid_row": null,
            "grid_template_areas": null,
            "grid_template_columns": null,
            "grid_template_rows": null,
            "height": null,
            "justify_content": null,
            "justify_items": null,
            "left": null,
            "margin": null,
            "max_height": null,
            "max_width": null,
            "min_height": null,
            "min_width": null,
            "object_fit": null,
            "object_position": null,
            "order": null,
            "overflow": null,
            "overflow_x": null,
            "overflow_y": null,
            "padding": null,
            "right": null,
            "top": null,
            "visibility": null,
            "width": null
          }
        },
        "9a39bdcb181c4f18885e3282e4573432": {
          "model_module": "@jupyter-widgets/controls",
          "model_module_version": "1.5.0",
          "model_name": "FloatProgressModel",
          "state": {
            "_dom_classes": [],
            "_model_module": "@jupyter-widgets/controls",
            "_model_module_version": "1.5.0",
            "_model_name": "FloatProgressModel",
            "_view_count": null,
            "_view_module": "@jupyter-widgets/controls",
            "_view_module_version": "1.5.0",
            "_view_name": "ProgressView",
            "bar_style": "success",
            "description": "",
            "description_tooltip": null,
            "layout": "IPY_MODEL_97d6eb2aac884fe9a8f03136b4970639",
            "max": 52,
            "min": 0,
            "orientation": "horizontal",
            "style": "IPY_MODEL_f61984cb37114383a7a5119f4db6ea16",
            "value": 52
          }
        },
        "9bfbdf5f56da460694a2cad9b377f6a7": {
          "model_module": "@jupyter-widgets/base",
          "model_module_version": "1.2.0",
          "model_name": "LayoutModel",
          "state": {
            "_model_module": "@jupyter-widgets/base",
            "_model_module_version": "1.2.0",
            "_model_name": "LayoutModel",
            "_view_count": null,
            "_view_module": "@jupyter-widgets/base",
            "_view_module_version": "1.2.0",
            "_view_name": "LayoutView",
            "align_content": null,
            "align_items": null,
            "align_self": null,
            "border": null,
            "bottom": null,
            "display": null,
            "flex": null,
            "flex_flow": null,
            "grid_area": null,
            "grid_auto_columns": null,
            "grid_auto_flow": null,
            "grid_auto_rows": null,
            "grid_column": null,
            "grid_gap": null,
            "grid_row": null,
            "grid_template_areas": null,
            "grid_template_columns": null,
            "grid_template_rows": null,
            "height": null,
            "justify_content": null,
            "justify_items": null,
            "left": null,
            "margin": null,
            "max_height": null,
            "max_width": null,
            "min_height": null,
            "min_width": null,
            "object_fit": null,
            "object_position": null,
            "order": null,
            "overflow": null,
            "overflow_x": null,
            "overflow_y": null,
            "padding": null,
            "right": null,
            "top": null,
            "visibility": null,
            "width": null
          }
        },
        "9db28f7cf57a4390bc711b1ec800e7a6": {
          "model_module": "@jupyter-widgets/base",
          "model_module_version": "1.2.0",
          "model_name": "LayoutModel",
          "state": {
            "_model_module": "@jupyter-widgets/base",
            "_model_module_version": "1.2.0",
            "_model_name": "LayoutModel",
            "_view_count": null,
            "_view_module": "@jupyter-widgets/base",
            "_view_module_version": "1.2.0",
            "_view_name": "LayoutView",
            "align_content": null,
            "align_items": null,
            "align_self": null,
            "border": null,
            "bottom": null,
            "display": null,
            "flex": null,
            "flex_flow": null,
            "grid_area": null,
            "grid_auto_columns": null,
            "grid_auto_flow": null,
            "grid_auto_rows": null,
            "grid_column": null,
            "grid_gap": null,
            "grid_row": null,
            "grid_template_areas": null,
            "grid_template_columns": null,
            "grid_template_rows": null,
            "height": null,
            "justify_content": null,
            "justify_items": null,
            "left": null,
            "margin": null,
            "max_height": null,
            "max_width": null,
            "min_height": null,
            "min_width": null,
            "object_fit": null,
            "object_position": null,
            "order": null,
            "overflow": null,
            "overflow_x": null,
            "overflow_y": null,
            "padding": null,
            "right": null,
            "top": null,
            "visibility": null,
            "width": null
          }
        },
        "a627cdb2568d47e0a783fe3e8574f3e1": {
          "model_module": "@jupyter-widgets/controls",
          "model_module_version": "1.5.0",
          "model_name": "ProgressStyleModel",
          "state": {
            "_model_module": "@jupyter-widgets/controls",
            "_model_module_version": "1.5.0",
            "_model_name": "ProgressStyleModel",
            "_view_count": null,
            "_view_module": "@jupyter-widgets/base",
            "_view_module_version": "1.2.0",
            "_view_name": "StyleView",
            "bar_color": null,
            "description_width": ""
          }
        },
        "ac5f32fe98634a4fa7e93d6ee01353dc": {
          "model_module": "@jupyter-widgets/base",
          "model_module_version": "1.2.0",
          "model_name": "LayoutModel",
          "state": {
            "_model_module": "@jupyter-widgets/base",
            "_model_module_version": "1.2.0",
            "_model_name": "LayoutModel",
            "_view_count": null,
            "_view_module": "@jupyter-widgets/base",
            "_view_module_version": "1.2.0",
            "_view_name": "LayoutView",
            "align_content": null,
            "align_items": null,
            "align_self": null,
            "border": null,
            "bottom": null,
            "display": null,
            "flex": null,
            "flex_flow": null,
            "grid_area": null,
            "grid_auto_columns": null,
            "grid_auto_flow": null,
            "grid_auto_rows": null,
            "grid_column": null,
            "grid_gap": null,
            "grid_row": null,
            "grid_template_areas": null,
            "grid_template_columns": null,
            "grid_template_rows": null,
            "height": null,
            "justify_content": null,
            "justify_items": null,
            "left": null,
            "margin": null,
            "max_height": null,
            "max_width": null,
            "min_height": null,
            "min_width": null,
            "object_fit": null,
            "object_position": null,
            "order": null,
            "overflow": null,
            "overflow_x": null,
            "overflow_y": null,
            "padding": null,
            "right": null,
            "top": null,
            "visibility": null,
            "width": null
          }
        },
        "adb95d9c650e4effb910858f87ab3794": {
          "model_module": "@jupyter-widgets/controls",
          "model_module_version": "1.5.0",
          "model_name": "DescriptionStyleModel",
          "state": {
            "_model_module": "@jupyter-widgets/controls",
            "_model_module_version": "1.5.0",
            "_model_name": "DescriptionStyleModel",
            "_view_count": null,
            "_view_module": "@jupyter-widgets/base",
            "_view_module_version": "1.2.0",
            "_view_name": "StyleView",
            "description_width": ""
          }
        },
        "af0b73d67e46440da7b4b0d3caeea23c": {
          "model_module": "@jupyter-widgets/base",
          "model_module_version": "1.2.0",
          "model_name": "LayoutModel",
          "state": {
            "_model_module": "@jupyter-widgets/base",
            "_model_module_version": "1.2.0",
            "_model_name": "LayoutModel",
            "_view_count": null,
            "_view_module": "@jupyter-widgets/base",
            "_view_module_version": "1.2.0",
            "_view_name": "LayoutView",
            "align_content": null,
            "align_items": null,
            "align_self": null,
            "border": null,
            "bottom": null,
            "display": null,
            "flex": null,
            "flex_flow": null,
            "grid_area": null,
            "grid_auto_columns": null,
            "grid_auto_flow": null,
            "grid_auto_rows": null,
            "grid_column": null,
            "grid_gap": null,
            "grid_row": null,
            "grid_template_areas": null,
            "grid_template_columns": null,
            "grid_template_rows": null,
            "height": null,
            "justify_content": null,
            "justify_items": null,
            "left": null,
            "margin": null,
            "max_height": null,
            "max_width": null,
            "min_height": null,
            "min_width": null,
            "object_fit": null,
            "object_position": null,
            "order": null,
            "overflow": null,
            "overflow_x": null,
            "overflow_y": null,
            "padding": null,
            "right": null,
            "top": null,
            "visibility": null,
            "width": null
          }
        },
        "b0a08bc1854d4f1397f2eb0c1e383c64": {
          "model_module": "@jupyter-widgets/controls",
          "model_module_version": "1.5.0",
          "model_name": "DescriptionStyleModel",
          "state": {
            "_model_module": "@jupyter-widgets/controls",
            "_model_module_version": "1.5.0",
            "_model_name": "DescriptionStyleModel",
            "_view_count": null,
            "_view_module": "@jupyter-widgets/base",
            "_view_module_version": "1.2.0",
            "_view_name": "StyleView",
            "description_width": ""
          }
        },
        "b656a2a583794d679b35ec8654f859c7": {
          "model_module": "@jupyter-widgets/controls",
          "model_module_version": "1.5.0",
          "model_name": "HTMLModel",
          "state": {
            "_dom_classes": [],
            "_model_module": "@jupyter-widgets/controls",
            "_model_module_version": "1.5.0",
            "_model_name": "HTMLModel",
            "_view_count": null,
            "_view_module": "@jupyter-widgets/controls",
            "_view_module_version": "1.5.0",
            "_view_name": "HTMLView",
            "description": "",
            "description_tooltip": null,
            "layout": "IPY_MODEL_90f0ae6d45a24c1fb6353206dd0f7e2b",
            "placeholder": "​",
            "style": "IPY_MODEL_3a5b3dae365f4a85a0932d7c80deb57c",
            "value": " 52.0/52.0 [00:00&lt;00:00, 3.65kB/s]"
          }
        },
        "bab25a7ad90944a7be1eed0df3ea24af": {
          "model_module": "@jupyter-widgets/controls",
          "model_module_version": "1.5.0",
          "model_name": "HBoxModel",
          "state": {
            "_dom_classes": [],
            "_model_module": "@jupyter-widgets/controls",
            "_model_module_version": "1.5.0",
            "_model_name": "HBoxModel",
            "_view_count": null,
            "_view_module": "@jupyter-widgets/controls",
            "_view_module_version": "1.5.0",
            "_view_name": "HBoxView",
            "box_style": "",
            "children": [
              "IPY_MODEL_bd45dd28b36a48dbbeb881e89d0574d5",
              "IPY_MODEL_22664fc9b66445728ce296b60ddc68c7",
              "IPY_MODEL_c51b988dfa214db3acbe28b55400d3ee"
            ],
            "layout": "IPY_MODEL_fee9112be6434266a4dde8417e54d3c2"
          }
        },
        "bd45dd28b36a48dbbeb881e89d0574d5": {
          "model_module": "@jupyter-widgets/controls",
          "model_module_version": "1.5.0",
          "model_name": "HTMLModel",
          "state": {
            "_dom_classes": [],
            "_model_module": "@jupyter-widgets/controls",
            "_model_module_version": "1.5.0",
            "_model_name": "HTMLModel",
            "_view_count": null,
            "_view_module": "@jupyter-widgets/controls",
            "_view_module_version": "1.5.0",
            "_view_name": "HTMLView",
            "description": "",
            "description_tooltip": null,
            "layout": "IPY_MODEL_93470a8081804f98a044d60c06ff941b",
            "placeholder": "​",
            "style": "IPY_MODEL_24090e3deef6407e9593bc4f84128fc4",
            "value": "spm.model: 100%"
          }
        },
        "c08efb48bbff4ee094cceb2380464de1": {
          "model_module": "@jupyter-widgets/base",
          "model_module_version": "1.2.0",
          "model_name": "LayoutModel",
          "state": {
            "_model_module": "@jupyter-widgets/base",
            "_model_module_version": "1.2.0",
            "_model_name": "LayoutModel",
            "_view_count": null,
            "_view_module": "@jupyter-widgets/base",
            "_view_module_version": "1.2.0",
            "_view_name": "LayoutView",
            "align_content": null,
            "align_items": null,
            "align_self": null,
            "border": null,
            "bottom": null,
            "display": null,
            "flex": null,
            "flex_flow": null,
            "grid_area": null,
            "grid_auto_columns": null,
            "grid_auto_flow": null,
            "grid_auto_rows": null,
            "grid_column": null,
            "grid_gap": null,
            "grid_row": null,
            "grid_template_areas": null,
            "grid_template_columns": null,
            "grid_template_rows": null,
            "height": null,
            "justify_content": null,
            "justify_items": null,
            "left": null,
            "margin": null,
            "max_height": null,
            "max_width": null,
            "min_height": null,
            "min_width": null,
            "object_fit": null,
            "object_position": null,
            "order": null,
            "overflow": null,
            "overflow_x": null,
            "overflow_y": null,
            "padding": null,
            "right": null,
            "top": null,
            "visibility": null,
            "width": null
          }
        },
        "c51b988dfa214db3acbe28b55400d3ee": {
          "model_module": "@jupyter-widgets/controls",
          "model_module_version": "1.5.0",
          "model_name": "HTMLModel",
          "state": {
            "_dom_classes": [],
            "_model_module": "@jupyter-widgets/controls",
            "_model_module_version": "1.5.0",
            "_model_name": "HTMLModel",
            "_view_count": null,
            "_view_module": "@jupyter-widgets/controls",
            "_view_module_version": "1.5.0",
            "_view_name": "HTMLView",
            "description": "",
            "description_tooltip": null,
            "layout": "IPY_MODEL_99850b502ce545b19fbb352c4b9b9443",
            "placeholder": "​",
            "style": "IPY_MODEL_b0a08bc1854d4f1397f2eb0c1e383c64",
            "value": " 2.46M/2.46M [00:00&lt;00:00, 131MB/s]"
          }
        },
        "cbabbc7e421b4b919fdfa3f93fc2e83d": {
          "model_module": "@jupyter-widgets/controls",
          "model_module_version": "1.5.0",
          "model_name": "DescriptionStyleModel",
          "state": {
            "_model_module": "@jupyter-widgets/controls",
            "_model_module_version": "1.5.0",
            "_model_name": "DescriptionStyleModel",
            "_view_count": null,
            "_view_module": "@jupyter-widgets/base",
            "_view_module_version": "1.2.0",
            "_view_name": "StyleView",
            "description_width": ""
          }
        },
        "d386cd31b9c544b19c092f9498156ec1": {
          "model_module": "@jupyter-widgets/controls",
          "model_module_version": "1.5.0",
          "model_name": "ProgressStyleModel",
          "state": {
            "_model_module": "@jupyter-widgets/controls",
            "_model_module_version": "1.5.0",
            "_model_name": "ProgressStyleModel",
            "_view_count": null,
            "_view_module": "@jupyter-widgets/base",
            "_view_module_version": "1.2.0",
            "_view_name": "StyleView",
            "bar_color": null,
            "description_width": ""
          }
        },
        "d38f4966aa014f54b992d0ba9dd4a986": {
          "model_module": "@jupyter-widgets/controls",
          "model_module_version": "1.5.0",
          "model_name": "HBoxModel",
          "state": {
            "_dom_classes": [],
            "_model_module": "@jupyter-widgets/controls",
            "_model_module_version": "1.5.0",
            "_model_name": "HBoxModel",
            "_view_count": null,
            "_view_module": "@jupyter-widgets/controls",
            "_view_module_version": "1.5.0",
            "_view_name": "HBoxView",
            "box_style": "",
            "children": [
              "IPY_MODEL_f3a23b056e5a477da47d4b5cf3e94e4a",
              "IPY_MODEL_6757bce9961a450e97788c36de519b03",
              "IPY_MODEL_8cdec43ef5274aed9662644ceedd6326"
            ],
            "layout": "IPY_MODEL_9bfbdf5f56da460694a2cad9b377f6a7"
          }
        },
        "db651a51818546dab06822cc5a45a478": {
          "model_module": "@jupyter-widgets/base",
          "model_module_version": "1.2.0",
          "model_name": "LayoutModel",
          "state": {
            "_model_module": "@jupyter-widgets/base",
            "_model_module_version": "1.2.0",
            "_model_name": "LayoutModel",
            "_view_count": null,
            "_view_module": "@jupyter-widgets/base",
            "_view_module_version": "1.2.0",
            "_view_name": "LayoutView",
            "align_content": null,
            "align_items": null,
            "align_self": null,
            "border": null,
            "bottom": null,
            "display": null,
            "flex": null,
            "flex_flow": null,
            "grid_area": null,
            "grid_auto_columns": null,
            "grid_auto_flow": null,
            "grid_auto_rows": null,
            "grid_column": null,
            "grid_gap": null,
            "grid_row": null,
            "grid_template_areas": null,
            "grid_template_columns": null,
            "grid_template_rows": null,
            "height": null,
            "justify_content": null,
            "justify_items": null,
            "left": null,
            "margin": null,
            "max_height": null,
            "max_width": null,
            "min_height": null,
            "min_width": null,
            "object_fit": null,
            "object_position": null,
            "order": null,
            "overflow": null,
            "overflow_x": null,
            "overflow_y": null,
            "padding": null,
            "right": null,
            "top": null,
            "visibility": null,
            "width": null
          }
        },
        "de807830b25f4ed99fed3b2211fb636b": {
          "model_module": "@jupyter-widgets/controls",
          "model_module_version": "1.5.0",
          "model_name": "FloatProgressModel",
          "state": {
            "_dom_classes": [],
            "_model_module": "@jupyter-widgets/controls",
            "_model_module_version": "1.5.0",
            "_model_name": "FloatProgressModel",
            "_view_count": null,
            "_view_module": "@jupyter-widgets/controls",
            "_view_module_version": "1.5.0",
            "_view_name": "ProgressView",
            "bar_style": "success",
            "description": "",
            "description_tooltip": null,
            "layout": "IPY_MODEL_eca6303e5f9f4a7cb92c78e6d485a5c3",
            "max": 578,
            "min": 0,
            "orientation": "horizontal",
            "style": "IPY_MODEL_0f7111ffecf2496c83f87d3d85781aac",
            "value": 578
          }
        },
        "e4d21d9c2b65499c9c937738148fa49c": {
          "model_module": "@jupyter-widgets/base",
          "model_module_version": "1.2.0",
          "model_name": "LayoutModel",
          "state": {
            "_model_module": "@jupyter-widgets/base",
            "_model_module_version": "1.2.0",
            "_model_name": "LayoutModel",
            "_view_count": null,
            "_view_module": "@jupyter-widgets/base",
            "_view_module_version": "1.2.0",
            "_view_name": "LayoutView",
            "align_content": null,
            "align_items": null,
            "align_self": null,
            "border": null,
            "bottom": null,
            "display": null,
            "flex": null,
            "flex_flow": null,
            "grid_area": null,
            "grid_auto_columns": null,
            "grid_auto_flow": null,
            "grid_auto_rows": null,
            "grid_column": null,
            "grid_gap": null,
            "grid_row": null,
            "grid_template_areas": null,
            "grid_template_columns": null,
            "grid_template_rows": null,
            "height": null,
            "justify_content": null,
            "justify_items": null,
            "left": null,
            "margin": null,
            "max_height": null,
            "max_width": null,
            "min_height": null,
            "min_width": null,
            "object_fit": null,
            "object_position": null,
            "order": null,
            "overflow": null,
            "overflow_x": null,
            "overflow_y": null,
            "padding": null,
            "right": null,
            "top": null,
            "visibility": null,
            "width": null
          }
        },
        "e4dad0a0050d4751a47b4149b8c55db8": {
          "model_module": "@jupyter-widgets/controls",
          "model_module_version": "1.5.0",
          "model_name": "HTMLModel",
          "state": {
            "_dom_classes": [],
            "_model_module": "@jupyter-widgets/controls",
            "_model_module_version": "1.5.0",
            "_model_name": "HTMLModel",
            "_view_count": null,
            "_view_module": "@jupyter-widgets/controls",
            "_view_module_version": "1.5.0",
            "_view_name": "HTMLView",
            "description": "",
            "description_tooltip": null,
            "layout": "IPY_MODEL_db651a51818546dab06822cc5a45a478",
            "placeholder": "​",
            "style": "IPY_MODEL_28e28749768f4de4ad978ea03d65d9c1",
            "value": "config.json: 100%"
          }
        },
        "e675d0a857dc4b0182171ef1c2dcbc10": {
          "model_module": "@jupyter-widgets/controls",
          "model_module_version": "1.5.0",
          "model_name": "DescriptionStyleModel",
          "state": {
            "_model_module": "@jupyter-widgets/controls",
            "_model_module_version": "1.5.0",
            "_model_name": "DescriptionStyleModel",
            "_view_count": null,
            "_view_module": "@jupyter-widgets/base",
            "_view_module_version": "1.2.0",
            "_view_name": "StyleView",
            "description_width": ""
          }
        },
        "eca6303e5f9f4a7cb92c78e6d485a5c3": {
          "model_module": "@jupyter-widgets/base",
          "model_module_version": "1.2.0",
          "model_name": "LayoutModel",
          "state": {
            "_model_module": "@jupyter-widgets/base",
            "_model_module_version": "1.2.0",
            "_model_name": "LayoutModel",
            "_view_count": null,
            "_view_module": "@jupyter-widgets/base",
            "_view_module_version": "1.2.0",
            "_view_name": "LayoutView",
            "align_content": null,
            "align_items": null,
            "align_self": null,
            "border": null,
            "bottom": null,
            "display": null,
            "flex": null,
            "flex_flow": null,
            "grid_area": null,
            "grid_auto_columns": null,
            "grid_auto_flow": null,
            "grid_auto_rows": null,
            "grid_column": null,
            "grid_gap": null,
            "grid_row": null,
            "grid_template_areas": null,
            "grid_template_columns": null,
            "grid_template_rows": null,
            "height": null,
            "justify_content": null,
            "justify_items": null,
            "left": null,
            "margin": null,
            "max_height": null,
            "max_width": null,
            "min_height": null,
            "min_width": null,
            "object_fit": null,
            "object_position": null,
            "order": null,
            "overflow": null,
            "overflow_x": null,
            "overflow_y": null,
            "padding": null,
            "right": null,
            "top": null,
            "visibility": null,
            "width": null
          }
        },
        "f3a23b056e5a477da47d4b5cf3e94e4a": {
          "model_module": "@jupyter-widgets/controls",
          "model_module_version": "1.5.0",
          "model_name": "HTMLModel",
          "state": {
            "_dom_classes": [],
            "_model_module": "@jupyter-widgets/controls",
            "_model_module_version": "1.5.0",
            "_model_name": "HTMLModel",
            "_view_count": null,
            "_view_module": "@jupyter-widgets/controls",
            "_view_module_version": "1.5.0",
            "_view_name": "HTMLView",
            "description": "",
            "description_tooltip": null,
            "layout": "IPY_MODEL_53b6db0726e741c7a0f6e0afb0edbe09",
            "placeholder": "​",
            "style": "IPY_MODEL_cbabbc7e421b4b919fdfa3f93fc2e83d",
            "value": "pytorch_model.bin: 100%"
          }
        },
        "f61984cb37114383a7a5119f4db6ea16": {
          "model_module": "@jupyter-widgets/controls",
          "model_module_version": "1.5.0",
          "model_name": "ProgressStyleModel",
          "state": {
            "_model_module": "@jupyter-widgets/controls",
            "_model_module_version": "1.5.0",
            "_model_name": "ProgressStyleModel",
            "_view_count": null,
            "_view_module": "@jupyter-widgets/base",
            "_view_module_version": "1.2.0",
            "_view_name": "StyleView",
            "bar_color": null,
            "description_width": ""
          }
        },
        "f8bd87595b69406fa1422b83f23fa728": {
          "model_module": "@jupyter-widgets/controls",
          "model_module_version": "1.5.0",
          "model_name": "HBoxModel",
          "state": {
            "_dom_classes": [],
            "_model_module": "@jupyter-widgets/controls",
            "_model_module_version": "1.5.0",
            "_model_name": "HBoxModel",
            "_view_count": null,
            "_view_module": "@jupyter-widgets/controls",
            "_view_module_version": "1.5.0",
            "_view_name": "HBoxView",
            "box_style": "",
            "children": [
              "IPY_MODEL_378449bea70f42618323b7b3213cc53e",
              "IPY_MODEL_fd88d76247d74132ba8524a09e6ac71f",
              "IPY_MODEL_526da3551dac4814a213c20299380b6b"
            ],
            "layout": "IPY_MODEL_65936153e0614650be14988b439f7566"
          }
        },
        "fd88d76247d74132ba8524a09e6ac71f": {
          "model_module": "@jupyter-widgets/controls",
          "model_module_version": "1.5.0",
          "model_name": "FloatProgressModel",
          "state": {
            "_dom_classes": [],
            "_model_module": "@jupyter-widgets/controls",
            "_model_module_version": "1.5.0",
            "_model_name": "FloatProgressModel",
            "_view_count": null,
            "_view_module": "@jupyter-widgets/controls",
            "_view_module_version": "1.5.0",
            "_view_name": "ProgressView",
            "bar_style": "success",
            "description": "",
            "description_tooltip": null,
            "layout": "IPY_MODEL_47bd8fe8324748268b550c153c952f2c",
            "max": 286034994,
            "min": 0,
            "orientation": "horizontal",
            "style": "IPY_MODEL_030a85d238934e3d85a3f276f6014bf2",
            "value": 286034994
          }
        },
        "fee9112be6434266a4dde8417e54d3c2": {
          "model_module": "@jupyter-widgets/base",
          "model_module_version": "1.2.0",
          "model_name": "LayoutModel",
          "state": {
            "_model_module": "@jupyter-widgets/base",
            "_model_module_version": "1.2.0",
            "_model_name": "LayoutModel",
            "_view_count": null,
            "_view_module": "@jupyter-widgets/base",
            "_view_module_version": "1.2.0",
            "_view_name": "LayoutView",
            "align_content": null,
            "align_items": null,
            "align_self": null,
            "border": null,
            "bottom": null,
            "display": null,
            "flex": null,
            "flex_flow": null,
            "grid_area": null,
            "grid_auto_columns": null,
            "grid_auto_flow": null,
            "grid_auto_rows": null,
            "grid_column": null,
            "grid_gap": null,
            "grid_row": null,
            "grid_template_areas": null,
            "grid_template_columns": null,
            "grid_template_rows": null,
            "height": null,
            "justify_content": null,
            "justify_items": null,
            "left": null,
            "margin": null,
            "max_height": null,
            "max_width": null,
            "min_height": null,
            "min_width": null,
            "object_fit": null,
            "object_position": null,
            "order": null,
            "overflow": null,
            "overflow_x": null,
            "overflow_y": null,
            "padding": null,
            "right": null,
            "top": null,
            "visibility": null,
            "width": null
          }
        }
      }
    }
  },
  "nbformat": 4,
  "nbformat_minor": 5
}
