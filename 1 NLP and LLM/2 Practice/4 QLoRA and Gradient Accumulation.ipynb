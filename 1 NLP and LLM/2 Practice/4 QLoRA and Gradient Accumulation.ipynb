{
 "cells": [
  {
   "cell_type": "markdown",
   "metadata": {},
   "source": [
    "# QLoRA and Gradient Accumulation"
   ]
  },
  {
   "cell_type": "markdown",
   "metadata": {},
   "source": [
    "### Dependencies"
   ]
  },
  {
   "cell_type": "code",
   "execution_count": null,
   "metadata": {
    "execution": {
     "iopub.execute_input": "2024-11-05T21:57:27.793934Z",
     "iopub.status.busy": "2024-11-05T21:57:27.793252Z",
     "iopub.status.idle": "2024-11-05T21:57:45.041801Z",
     "shell.execute_reply": "2024-11-05T21:57:45.040664Z",
     "shell.execute_reply.started": "2024-11-05T21:57:27.793896Z"
    }
   },
   "outputs": [],
   "source": [
    "!pip install peft bitsandbytes accelerate==0.34.0 -q"
   ]
  },
  {
   "cell_type": "code",
   "execution_count": null,
   "metadata": {
    "_cell_guid": "b1076dfc-b9ad-4769-8c92-a6c4dae69d19",
    "_uuid": "8f2839f25d086af736a60e9eeb907d3b93b6e0e5",
    "execution": {
     "iopub.execute_input": "2024-11-05T22:51:10.663094Z",
     "iopub.status.busy": "2024-11-05T22:51:10.662731Z",
     "iopub.status.idle": "2024-11-05T22:51:18.000243Z",
     "shell.execute_reply": "2024-11-05T22:51:17.999413Z",
     "shell.execute_reply.started": "2024-11-05T22:51:10.663060Z"
    }
   },
   "outputs": [],
   "source": [
    "import os\n",
    "import gc\n",
    "from typing import List, Dict, Any\n",
    "\n",
    "import torch\n",
    "import torch.nn as nn\n",
    "import torch.optim as optim\n",
    "from torch.utils.data import Dataset\n",
    "from torch.nn.utils.rnn import pad_sequence\n",
    "\n",
    "from datasets import load_dataset\n",
    "from peft import PeftModel, get_peft_model, LoraConfig\n",
    "from transformers import AutoModelForCausalLM, AutoTokenizer, Trainer, TrainingArguments, BitsAndBytesConfig, AutoConfig, set_seed\n",
    "\n",
    "set_seed(12, True)\n",
    "\n",
    "os.environ[\"WANDB_DISABLED\"] = \"true\"\n",
    "os.environ[\"CUBLAS_WORKSPACE_CONFIG\"] = \":16:8\""
   ]
  },
  {
   "cell_type": "code",
   "execution_count": null,
   "metadata": {},
   "outputs": [],
   "source": [
    "torch.use_deterministic_algorithms(True)\n",
    "torch.manual_seed(0)"
   ]
  },
  {
   "cell_type": "markdown",
   "metadata": {},
   "source": [
    "### Gradient Accumulation "
   ]
  },
  {
   "cell_type": "code",
   "execution_count": null,
   "metadata": {
    "execution": {
     "iopub.execute_input": "2024-11-05T22:51:34.521937Z",
     "iopub.status.busy": "2024-11-05T22:51:34.520442Z",
     "iopub.status.idle": "2024-11-05T22:51:35.882571Z",
     "shell.execute_reply": "2024-11-05T22:51:35.881540Z",
     "shell.execute_reply.started": "2024-11-05T22:51:34.521879Z"
    }
   },
   "outputs": [],
   "source": [
    "device = torch.device(\"cuda\") if torch.cuda.is_available() else torch.device(\"cpu\")\n",
    "input_size = 512\n",
    "output_size = 256\n",
    "batch_size = 64\n",
    "gradient_accumulation_steps = 4\n",
    "\n",
    "model = nn.Linear(input_size, output_size).to(device)\n",
    "optimizer = optim.SGD(model.parameters(), lr=0.001)\n",
    "\n",
    "x = torch.randn(batch_size, input_size).to(device)\n",
    "y = torch.randn(batch_size, output_size).to(device)\n",
    "loss_fn = nn.MSELoss()\n",
    "for i in range(1000):\n",
    "    optimizer.zero_grad()\n",
    "    output = model(x)\n",
    "    loss = loss_fn(output, y)\n",
    "    loss.backward()\n",
    "    optimizer.step()\n",
    "    \n",
    "print(loss.item())"
   ]
  },
  {
   "cell_type": "code",
   "execution_count": null,
   "metadata": {
    "execution": {
     "iopub.execute_input": "2024-11-05T22:51:37.512699Z",
     "iopub.status.busy": "2024-11-05T22:51:37.511958Z",
     "iopub.status.idle": "2024-11-05T22:51:40.371231Z",
     "shell.execute_reply": "2024-11-05T22:51:40.370111Z",
     "shell.execute_reply.started": "2024-11-05T22:51:37.512653Z"
    }
   },
   "outputs": [],
   "source": [
    "device = torch.device(\"cuda\") if torch.cuda.is_available() else torch.device(\"cpu\")\n",
    "input_size = 512\n",
    "output_size = 256\n",
    "batch_size = 64\n",
    "gradient_accumulation_steps = 4\n",
    "\n",
    "\n",
    "model = nn.Linear(input_size, output_size).to(device)\n",
    "optimizer = optim.SGD(model.parameters(), lr=0.001)\n",
    "\n",
    "\n",
    "x = torch.randn(batch_size, input_size).to(device)\n",
    "y = torch.randn(batch_size, output_size).to(device)\n",
    "loss_fn = nn.MSELoss()\n",
    "\n",
    "mini_batch_size = batch_size // gradient_accumulation_steps\n",
    "\n",
    "for i in range(1000):\n",
    "    optimizer.zero_grad()\n",
    "    for j in range(gradient_accumulation_steps):\n",
    "        x_mini_batch = x[j*mini_batch_size:(j+1)*mini_batch_size]\n",
    "        y_mini_batch = y[j*mini_batch_size:(j+1)*mini_batch_size]\n",
    "        output = model(x_mini_batch)\n",
    "        loss = loss_fn(output, y_mini_batch) / gradient_accumulation_steps\n",
    "        loss.backward()\n",
    "    optimizer.step()\n",
    "    \n",
    "print(loss.item())"
   ]
  },
  {
   "cell_type": "markdown",
   "metadata": {},
   "source": [
    "### QLORA "
   ]
  },
  {
   "cell_type": "code",
   "execution_count": null,
   "metadata": {
    "execution": {
     "iopub.execute_input": "2024-11-05T22:51:40.372869Z",
     "iopub.status.busy": "2024-11-05T22:51:40.372586Z",
     "iopub.status.idle": "2024-11-05T22:51:40.648368Z",
     "shell.execute_reply": "2024-11-05T22:51:40.647502Z",
     "shell.execute_reply.started": "2024-11-05T22:51:40.372838Z"
    }
   },
   "outputs": [],
   "source": [
    "model_name = \"NousResearch/Llama-2-7b-hf\"\n",
    "tokenizer = AutoTokenizer.from_pretrained(model_name)\n",
    "\n",
    "imdb = load_dataset(\"imdb\")"
   ]
  },
  {
   "cell_type": "code",
   "execution_count": null,
   "metadata": {
    "execution": {
     "iopub.execute_input": "2024-11-05T22:53:40.465718Z",
     "iopub.status.busy": "2024-11-05T22:53:40.465308Z",
     "iopub.status.idle": "2024-11-05T22:53:40.488696Z",
     "shell.execute_reply": "2024-11-05T22:53:40.487733Z",
     "shell.execute_reply.started": "2024-11-05T22:53:40.465680Z"
    }
   },
   "outputs": [],
   "source": [
    "def collate_fn(batch: List[Dict[str, Any]]):\n",
    "    class_mapping = {0: \"negative\", 1: \"positive\"}\n",
    "    texts = [sample[\"text\"] + \" ||| \" + f' {class_mapping[sample[\"label\"]]} {tokenizer.eos_token}' for sample in batch]\n",
    "    tokenized_values = tokenizer(texts, padding='longest', return_tensors='pt')\n",
    "    \n",
    "    labels_ids = tokenized_values['input_ids'].clone()\n",
    "    for i in range(len(labels_ids)):\n",
    "        labels_ids[i, :-2] = -100\n",
    "\n",
    "    return {\n",
    "        \"input_ids\": tokenized_values['input_ids'],\n",
    "        \"attention_mask\": tokenized_values['attention_mask'],\n",
    "        \"labels\": labels_ids\n",
    "    }\n",
    "\n",
    "res = collate_fn([imdb[\"train\"][0], imdb[\"train\"][12505], imdb[\"train\"][2]])\n",
    "\n",
    "assert tokenizer.decode(res[\"input_ids\"][res[\"labels\"] != -100]) == \"negative</s> positive</s> negative</s>\""
   ]
  },
  {
   "cell_type": "code",
   "execution_count": null,
   "metadata": {},
   "outputs": [],
   "source": [
    "torch.cuda.empty_cache()\n",
    "gc.collect()"
   ]
  },
  {
   "cell_type": "code",
   "execution_count": null,
   "metadata": {},
   "outputs": [],
   "source": [
    "bnb_config = BitsAndBytesConfig(\n",
    "    load_in_4bit=True,\n",
    "    bnb_4bit_quant_type=\"nf4\",\n",
    "    bnb_4bit_compute_dtype=torch.bfloat16,\n",
    "    bnb_4bit_use_double_quant=True,\n",
    "    bnb_4bit_quant_storage=torch.bfloat16,\n",
    ")\n",
    "\n",
    "model = AutoModelForCausalLM.from_pretrained(\n",
    "    model_name,\n",
    "    quantization_config=bnb_config,\n",
    "    torch_dtype=torch.bfloat16,\n",
    ")\n",
    "\n",
    "model.enable_input_require_grads()"
   ]
  },
  {
   "cell_type": "code",
   "execution_count": null,
   "metadata": {},
   "outputs": [],
   "source": [
    "peft_config = LoraConfig(\n",
    "    r=4,\n",
    "    lora_alpha=32,\n",
    "    lora_dropout=0.1,\n",
    "    target_modules=[\"q_proj\", \"k_proj\", \"v_proj\", \"o_proj\"],\n",
    "    fan_in_fan_out=False,\n",
    "    bias=\"none\"\n",
    ")\n",
    "model = PeftModel(model, peft_config)"
   ]
  },
  {
   "cell_type": "code",
   "execution_count": null,
   "metadata": {
    "execution": {
     "iopub.execute_input": "2024-11-05T22:52:14.146891Z",
     "iopub.status.busy": "2024-11-05T22:52:14.146554Z",
     "iopub.status.idle": "2024-11-05T22:52:45.531779Z",
     "shell.execute_reply": "2024-11-05T22:52:45.530854Z",
     "shell.execute_reply.started": "2024-11-05T22:52:14.146854Z"
    }
   },
   "outputs": [],
   "source": [
    "num_true = 0\n",
    "for name, param in model.named_parameters():\n",
    "    if \"lora\" in name:\n",
    "        num_true += 1\n",
    "        param.requires_grad = True\n",
    "    else:\n",
    "        param.requires_grad = False\n",
    "print(num_true)"
   ]
  },
  {
   "cell_type": "code",
   "execution_count": null,
   "metadata": {
    "execution": {
     "iopub.execute_input": "2024-11-05T22:52:45.533792Z",
     "iopub.status.busy": "2024-11-05T22:52:45.533468Z",
     "iopub.status.idle": "2024-11-05T22:53:19.086601Z",
     "shell.execute_reply": "2024-11-05T22:53:19.083502Z",
     "shell.execute_reply.started": "2024-11-05T22:52:45.533757Z"
    }
   },
   "outputs": [],
   "source": [
    "args = TrainingArguments(\n",
    "    output_dir='experiments',\n",
    "    per_device_train_batch_size=4,\n",
    "    gradient_accumulation_steps=4,\n",
    "    max_steps=10,\n",
    "    logging_steps=5,\n",
    "    save_steps=5,\n",
    "    save_total_limit=3,\n",
    "    fp16=True,\n",
    "    report_to=None,\n",
    "    remove_unused_columns=False,\n",
    "    torch_empty_cache_steps=10,\n",
    "    gradient_checkpointing=True\n",
    ")\n",
    "\n",
    "# Настройка Trainer\n",
    "trainer = Trainer(\n",
    "    model=model,\n",
    "    args=args,\n",
    "    train_dataset=imdb[\"train\"],\n",
    "    tokenizer=tokenizer,\n",
    "    data_collator=collate_fn,\n",
    ")\n",
    "\n",
    "# Запуск обучения\n",
    "trainer.train()"
   ]
  },
  {
   "cell_type": "code",
   "execution_count": null,
   "metadata": {
    "execution": {
     "iopub.status.busy": "2024-11-05T22:53:19.088081Z",
     "iopub.status.idle": "2024-11-05T22:53:19.088619Z",
     "shell.execute_reply": "2024-11-05T22:53:19.088379Z",
     "shell.execute_reply.started": "2024-11-05T22:53:19.088353Z"
    }
   },
   "outputs": [],
   "source": [
    "input_text = imdb[\"test\"][0][\"text\"] + \" ||| \"\n",
    "label = imdb[\"test\"][0][\"label\"]\n",
    "x = tokenizer(input_text, return_tensors=\"pt\")\n",
    "for k, v in x.items():\n",
    "    x[k] = v.cuda()\n",
    "\n",
    "print(label)\n",
    "g = model.generate(**x, max_new_tokens=2, do_sample=False)\n",
    "print(tokenizer.decode(g[0].tolist()))"
   ]
  }
 ],
 "metadata": {
  "kaggle": {
   "accelerator": "gpu",
   "dataSources": [],
   "dockerImageVersionId": 30786,
   "isGpuEnabled": true,
   "isInternetEnabled": true,
   "language": "python",
   "sourceType": "notebook"
  },
  "kernelspec": {
   "display_name": "Python 3",
   "language": "python",
   "name": "python3"
  },
  "language_info": {
   "codemirror_mode": {
    "name": "ipython",
    "version": 3
   },
   "file_extension": ".py",
   "mimetype": "text/x-python",
   "name": "python",
   "nbconvert_exporter": "python",
   "pygments_lexer": "ipython3",
   "version": "3.10.12"
  }
 },
 "nbformat": 4,
 "nbformat_minor": 4
}
