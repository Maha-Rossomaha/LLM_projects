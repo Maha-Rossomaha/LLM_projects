{
  "cells": [
    {
      "cell_type": "markdown",
      "id": "d7153d9f",
      "metadata": {},
      "source": [
        "# Search System"
      ]
    },
    {
      "cell_type": "markdown",
      "id": "b29e288d-dfd9-4cac-a396-5cdfb3b4063c",
      "metadata": {},
      "source": [
        "---"
      ]
    },
    {
      "cell_type": "markdown",
      "id": "7b96d18f",
      "metadata": {},
      "source": [
        "### Requirements"
      ]
    },
    {
      "cell_type": "code",
      "execution_count": null,
      "id": "5319a2ac-982f-4727-ba7d-49b28e5ae94f",
      "metadata": {},
      "outputs": [],
      "source": [
        "# %pip install dotenv opensearch-py qdrant_client datasets FlagEmbedding tqdm ipywidgets matplotlib numpy sentence-transformers torch"
      ]
    },
    {
      "cell_type": "code",
      "execution_count": null,
      "id": "9bc83b54",
      "metadata": {},
      "outputs": [],
      "source": [
        "from dotenv import load_dotenv\n",
        "import os\n",
        "\n",
        "load_dotenv()\n",
        "OPENSEARCH_INITIAL_ADMIN_PASSWORD = os.getenv(\"OPENSEARCH_INITIAL_ADMIN_PASSWORD\")"
      ]
    },
    {
      "cell_type": "code",
      "execution_count": null,
      "id": "82eb6cae",
      "metadata": {},
      "outputs": [],
      "source": [
        "from opensearchpy import AsyncOpenSearch\n",
        "\n",
        "from qdrant_client import QdrantClient\n",
        "from qdrant_client.models import PointStruct\n",
        "from qdrant_client.models import Distance, VectorParams\n",
        "from qdrant_client.models import Filter, FieldCondition, MatchValue\n",
        "\n",
        "import torch\n",
        "import random\n",
        "import asyncio\n",
        "import itertools\n",
        "import numpy as np\n",
        "from tqdm import tqdm\n",
        "from datasets import load_dataset\n",
        "from dataclasses import dataclass\n",
        "from collections import defaultdict\n",
        "\n",
        "import matplotlib.pyplot as plt\n",
        "from FlagEmbedding import BGEM3FlagModel"
      ]
    },
    {
      "cell_type": "markdown",
      "id": "4649d2b7",
      "metadata": {},
      "source": [
        "### Docker"
      ]
    },
    {
      "cell_type": "code",
      "execution_count": null,
      "id": "b57fc04c",
      "metadata": {},
      "outputs": [],
      "source": [
        "!docker pull opensearchproject/opensearch:latest\n",
        "!docker pull qdrant/qdrant "
      ]
    },
    {
      "cell_type": "code",
      "execution_count": null,
      "id": "37ab9385",
      "metadata": {},
      "outputs": [],
      "source": [
        "!docker ps"
      ]
    },
    {
      "cell_type": "code",
      "execution_count": null,
      "id": "ce6112c3",
      "metadata": {},
      "outputs": [],
      "source": [
        "!docker run -d --rm \\\n",
        "    -p 6333:6333 -p 6334:6334 \\\n",
        "        -v \"$(pwd)/qdrant_storage:/qdrant/storage:z\" \\\n",
        "            qdrant/qdrant\n",
        "!docker run -d --rm \\\n",
        "    -p 9200:9200 -p 9600:9600 \\\n",
        "        -e \"discovery.type=single-node\" \\\n",
        "            -e OPENSEARCH_INITIAL_ADMIN_PASSWORD=$OPENSEARCH_INITIAL_ADMIN_PASSWORD \\\n",
        "                opensearchproject/opensearch:latest"
      ]
    },
    {
      "cell_type": "markdown",
      "id": "36b43a91-8b41-412c-98f3-17aeca170fa2",
      "metadata": {},
      "source": [
        "### Data "
      ]
    },
    {
      "cell_type": "code",
      "execution_count": null,
      "id": "9ee5e2fe",
      "metadata": {},
      "outputs": [],
      "source": [
        "raw_data = load_dataset(\"tasksource/esci\")"
      ]
    },
    {
      "cell_type": "code",
      "execution_count": null,
      "id": "6cfe0e4b-5cd7-4c2d-ae9b-0eac507612e0",
      "metadata": {},
      "outputs": [],
      "source": [
        "@dataclass(frozen=True)\n",
        "class TextFields:\n",
        "    product_title: str\n",
        "    product_description: str\n",
        "    product_bullet_point: str\n",
        "    product_brand: str\n",
        "    product_color: str\n",
        "    product_text: str\n",
        "\n",
        "@dataclass\n",
        "class DatasetPart:\n",
        "    queries: dict[str, int]\n",
        "    query2doc2target: dict[str, dict[str, str]]"
      ]
    },
    {
      "cell_type": "code",
      "execution_count": null,
      "id": "66b5ba96",
      "metadata": {},
      "outputs": [],
      "source": [
        "TextFields.__annotations__"
      ]
    },
    {
      "cell_type": "code",
      "execution_count": null,
      "id": "66010f8b-dab3-47ba-918b-bd930963e4df",
      "metadata": {},
      "outputs": [],
      "source": [
        "def process(part):\n",
        "    example_ids = set()\n",
        "    docs = dict()\n",
        "    queries = dict()\n",
        "    query2doc2target = defaultdict(dict)\n",
        "    for point in tqdm(part):\n",
        "        if point[\"example_id\"] in example_ids:\n",
        "            continue\n",
        "        example_ids.add(point[\"example_id\"])\n",
        "        if point[\"product_id\"] not in docs:\n",
        "            docs[point[\"product_id\"]] = TextFields(*[point[name] for name in TextFields.__annotations__])\n",
        "        if point[\"query_id\"] not in queries:\n",
        "            queries[point[\"query_id\"]] = point[\"query\"]\n",
        "        query2doc2target[point[\"query_id\"]][point[\"product_id\"]] = point[\"esci_label\"]\n",
        "    return docs, DatasetPart(queries, query2doc2target)"
      ]
    },
    {
      "cell_type": "code",
      "execution_count": null,
      "id": "51c393bb-e960-47d7-b48d-3f2dc5ca6ca1",
      "metadata": {},
      "outputs": [],
      "source": [
        "data = {\n",
        "    name: process(raw_data[name])\n",
        "    for name in raw_data\n",
        "}"
      ]
    },
    {
      "cell_type": "code",
      "execution_count": null,
      "id": "8dbd81fa-1d8f-4772-9149-5b28259a0aa5",
      "metadata": {},
      "outputs": [],
      "source": [
        "text_rich_docs = data[\"train\"][0]\n",
        "text_rich_docs.update(data[\"test\"][0])\n",
        "\n",
        "data = {\n",
        "    name: data[name][1]\n",
        "    for name in data\n",
        "}"
      ]
    },
    {
      "cell_type": "code",
      "execution_count": null,
      "id": "b8c29811-a269-4c40-a4c5-c289ca891fa6",
      "metadata": {},
      "outputs": [],
      "source": [
        "def check_dataset(query2doc2target):\n",
        "    print(f\"Число запросов: {len(query2doc2target)}\")\n",
        "    print(f\"Число точек: {sum(map(len, query2doc2target.values()))}\")\n",
        "\n",
        "    plt.figure(figsize=(10, 5))\n",
        "    plt.hist(list(itertools.chain.from_iterable([doc2target.values() for doc2target in query2doc2target.values()])))\n",
        "    plt.title(\"Распределение таргетов\")\n",
        "    plt.show()"
      ]
    },
    {
      "cell_type": "code",
      "execution_count": null,
      "id": "c371de65-a241-4543-b8d9-25a1db5de0cf",
      "metadata": {},
      "outputs": [],
      "source": [
        "check_dataset(data[\"train\"].query2doc2target)"
      ]
    },
    {
      "cell_type": "code",
      "execution_count": null,
      "id": "21b3cd20-706d-418c-ae9b-4738ce199cd5",
      "metadata": {},
      "outputs": [],
      "source": [
        "check_dataset(data[\"test\"].query2doc2target)"
      ]
    },
    {
      "cell_type": "code",
      "execution_count": null,
      "id": "4ec4c7fc-7cda-4294-bf55-8c27d126cc4f",
      "metadata": {},
      "outputs": [],
      "source": [
        "def splitDict(d):\n",
        "    n = len(d) // 2\n",
        "    p = list(d.items())\n",
        "\n",
        "    random.seed(42)\n",
        "    random.shuffle(p)\n",
        "\n",
        "    i = iter(p)\n",
        "    d1 = dict(itertools.islice(i, n))\n",
        "    d2 = dict(i)\n",
        "    return d1, d2"
      ]
    },
    {
      "cell_type": "code",
      "execution_count": null,
      "id": "957f27f7-bfa4-4f44-ac03-25a0958229e5",
      "metadata": {},
      "outputs": [],
      "source": [
        "indexed_queries, train_queries = splitDict(data[\"train\"].queries)\n",
        "indexed = DatasetPart(indexed_queries, data[\"train\"].query2doc2target)\n",
        "train = DatasetPart(train_queries, data[\"train\"].query2doc2target)\n",
        "\n",
        "test = data[\"test\"]"
      ]
    },
    {
      "cell_type": "code",
      "execution_count": null,
      "id": "fbaabfcc-1ed0-4cc7-bc57-7a66fe2d17f8",
      "metadata": {},
      "outputs": [],
      "source": [
        "indexed_docs = set(itertools.chain.from_iterable(indexed.query2doc2target[query].keys() for query in indexed.queries))\n",
        "train_docs = set(itertools.chain.from_iterable(train.query2doc2target[query].keys() for query in train.queries))\n",
        "test_docs = set(itertools.chain.from_iterable(test.query2doc2target[query].keys() for query in test.queries))\n",
        "\n",
        "print(f\"Число документов в indexed: {len(indexed_docs)}\")\n",
        "print(f\"Число документов в train: {len(train_docs)}\")\n",
        "print(f\"Число документов в test: {len(test_docs)}\")\n",
        "\n",
        "print(f\"Покрытие train-части: {len(indexed_docs.intersection(train_docs))}\")\n",
        "print(f\"Покрытие test-части: {len(indexed_docs.union(train_docs).intersection(test_docs))}\")"
      ]
    },
    {
      "cell_type": "markdown",
      "id": "4cd54e47-d84d-4e2d-99af-0da3b07a0069",
      "metadata": {},
      "source": [
        "#### Behaviour Features"
      ]
    },
    {
      "cell_type": "code",
      "execution_count": null,
      "id": "b36be4a1-6ab1-4c33-9b67-b78be2663cd4",
      "metadata": {},
      "outputs": [],
      "source": [
        "@dataclass\n",
        "class BehaviourFeatures:\n",
        "    exact: float = 0.0\n",
        "    substitute: float = 0.0\n",
        "    complement: float = 0.0\n",
        "    irrelevant: float = 0.0\n",
        "\n",
        "    def __iter__(self):\n",
        "        for feature in self.__dict__:\n",
        "            yield self.__dict__[feature]\n",
        "\n",
        "    def __add__(self, other):\n",
        "        t1 = tuple(self)\n",
        "        t2 = tuple(other)\n",
        "        new = BehaviourFeatures(*(x+y for x, y in zip(t1, t2)))\n",
        "        return new"
      ]
    },
    {
      "cell_type": "code",
      "execution_count": null,
      "id": "14ba1cdf-4e25-4224-a953-1afc36c4c098",
      "metadata": {},
      "outputs": [],
      "source": [
        "def obtain_behavior_features(part) -> defaultdict[str, BehaviourFeatures]:\n",
        "    doc2features = defaultdict(BehaviourFeatures)\n",
        "    for query in tqdm(part.queries):\n",
        "        doc2target = part.query2doc2target[query]\n",
        "        for doc in doc2target:\n",
        "            match doc2target[doc]:\n",
        "                case \"Exact\":\n",
        "                    doc2features[doc].exact += 1\n",
        "                    doc2features[doc].exact_complement += 1\n",
        "                case \"Complement\":\n",
        "                    doc2features[doc].complement += 1\n",
        "                    doc2features[doc].exact_complement += 1\n",
        "                case \"Substitute\":\n",
        "                    doc2features[doc].substitute += 1\n",
        "    return doc2features"
      ]
    },
    {
      "cell_type": "code",
      "execution_count": null,
      "id": "83527229-5ae3-4e98-ae1c-b3d5a57ef992",
      "metadata": {},
      "outputs": [],
      "source": [
        "indexed_behaviour_docs = obtain_behavior_features(indexed)\n",
        "train_behaviour_docs = obtain_behavior_features(train)"
      ]
    },
    {
      "cell_type": "code",
      "execution_count": null,
      "id": "857499f8",
      "metadata": {},
      "outputs": [],
      "source": [
        "list(train_behaviour_docs.items())[:5]"
      ]
    },
    {
      "cell_type": "code",
      "execution_count": null,
      "id": "46436085-f916-484f-97f7-97b875c42ba7",
      "metadata": {},
      "outputs": [],
      "source": [
        "def merge_features(p1: dict[str, BehaviourFeatures], p2: dict[str, BehaviourFeatures]) -> dict[str, BehaviourFeatures]:\n",
        "    doc2features = defaultdict(BehaviourFeatures)\n",
        "    for doc in p1:\n",
        "        doc2features[doc] += p1[doc]\n",
        "    for doc in p2:\n",
        "        doc2features[doc] += p2[doc]\n",
        "    return dict(doc2features)"
      ]
    },
    {
      "cell_type": "code",
      "execution_count": null,
      "id": "3bd427e9-fd4f-495e-bc70-6a07063a63d5",
      "metadata": {},
      "outputs": [],
      "source": [
        "indexed_train_behaviour_docs = merge_features(indexed_behaviour_docs, train_behaviour_docs)\n",
        "list(indexed_train_behaviour_docs.items())[:5]"
      ]
    },
    {
      "cell_type": "markdown",
      "id": "24cb0e54-84e9-4c94-8a1d-43f425e5097b",
      "metadata": {},
      "source": [
        "### FullText Search - OpenSearch Indexing\n",
        "\n",
        "[Quickstart](https://last9.io/blog/how-to-use-opensearch-with-python/)\n",
        "\n",
        "[OpenSearch Docs](https://docs.opensearch.org/docs/latest/field-types/supported-field-types/index/)"
      ]
    },
    {
      "cell_type": "code",
      "execution_count": null,
      "id": "3a1f0778",
      "metadata": {},
      "outputs": [],
      "source": [
        "client = AsyncOpenSearch(\n",
        "    hosts = [{'host': 'localhost', 'port': 9200}],\n",
        "    http_auth = ('admin', os.environ[\"OPENSEARCH_INITIAL_ADMIN_PASSWORD\"]),\n",
        "    use_ssl = True,\n",
        "    verify_certs = False,\n",
        "    ssl_show_warn = False\n",
        ")\n",
        "info = await client.info()\n",
        "info"
      ]
    },
    {
      "cell_type": "code",
      "execution_count": null,
      "id": "c6fda11c-8dbd-4230-957f-318aaa32cb04",
      "metadata": {},
      "outputs": [],
      "source": [
        "def get_mappings():\n",
        "    mappings = {\n",
        "        \"properties\": {\n",
        "            name: {\"type\": \"text\"}\n",
        "            for name in TextFields.__annotations__\n",
        "        }\n",
        "    }\n",
        "    \n",
        "    mappings[\"properties\"].update({\n",
        "        name: {\"type\": \"float\"}\n",
        "        for name in BehaviourFeatures.__annotations__\n",
        "    })\n",
        "    return mappings"
      ]
    },
    {
      "cell_type": "code",
      "execution_count": null,
      "id": "80abbe07",
      "metadata": {},
      "outputs": [],
      "source": [
        "index_name = \"products\"\n",
        "\n",
        "\n",
        "index_body = {\n",
        "    \"settings\": {\n",
        "        \"index\": {\n",
        "            \"number_of_shards\": 4,\n",
        "            \"number_of_replicas\": 1\n",
        "        }\n",
        "    },\n",
        "    \"mappings\": get_mappings()\n",
        "}\n",
        "\n",
        "if not await client.indices.exists(index=index_name):\n",
        "    await client.indices.create(\n",
        "        index=index_name, \n",
        "        body=index_body\n",
        "    )"
      ]
    },
    {
      "cell_type": "code",
      "execution_count": null,
      "id": "7537ad0e-6546-4d2f-80c2-3e84881646d1",
      "metadata": {},
      "outputs": [],
      "source": [
        "def obtain_doc2index_id(docs):\n",
        "    doc2index_id = dict()\n",
        "    for doc in docs:\n",
        "        if doc not in doc2index_id:\n",
        "            doc2index_id[doc] = len(doc2index_id)\n",
        "    return doc2index_id\n",
        "\n",
        "def obtain_index_id2doc(doc2index_id):\n",
        "    return {value: key for key, value in doc2index_id.items()}"
      ]
    },
    {
      "cell_type": "code",
      "execution_count": null,
      "id": "118ee3ab-80b4-4dd9-b1db-4638ef2e59c9",
      "metadata": {},
      "outputs": [],
      "source": [
        "doc2index_id = obtain_doc2index_id(text_rich_docs)\n",
        "index_id2doc = obtain_index_id2doc(doc2index_id)"
      ]
    },
    {
      "cell_type": "code",
      "execution_count": null,
      "id": "2d45c8fb-f550-4a85-a198-e9a9bd280467",
      "metadata": {},
      "outputs": [],
      "source": [
        "def describe_document(\n",
        "    doc: str,\n",
        "    text_rich_docs: dict,\n",
        "    behaviour_docs: dict\n",
        ") -> dict:\n",
        "    fields = dict(text_rich_docs[doc].__dict__)\n",
        "    fields.update(behaviour_docs[doc].__dict__)\n",
        "    return fields"
      ]
    },
    {
      "cell_type": "code",
      "execution_count": null,
      "id": "cd39b778",
      "metadata": {},
      "outputs": [],
      "source": [
        "await asyncio.gather(*[\n",
        "    client.index(\n",
        "        index=index_name,\n",
        "        body=describe_document(doc, text_rich_docs, indexed_behaviour_docs),\n",
        "        id=doc2index_id[doc],\n",
        "        timeout=3600\n",
        "    ) for doc in tqdm(doc2index_id)\n",
        "])\n",
        "await client.indices.refresh(index=index_name)"
      ]
    },
    {
      "cell_type": "code",
      "execution_count": null,
      "id": "4317ca7a",
      "metadata": {},
      "outputs": [],
      "source": [
        "info = await client.indices.stats(index=index_name)\n",
        "info[\"_all\"][\"primaries\"][\"docs\"][\"count\"]"
      ]
    },
    {
      "cell_type": "markdown",
      "id": "75c90c97-793f-4391-8da8-41787719e755",
      "metadata": {},
      "source": [
        "#### Queries and Metrics  \n",
        "[OpenSearch Queries](https://docs.opensearch.org/docs/latest/query-dsl/full-text/match/)"
      ]
    },
    {
      "cell_type": "code",
      "execution_count": null,
      "id": "dbbaeb03-cf8c-47de-9ef6-ee7b09b2f610",
      "metadata": {},
      "outputs": [],
      "source": [
        "def obtain_opensearch_query(\n",
        "    query_text: str, \n",
        "    k: int = 15\n",
        "):\n",
        "    text_fields = list(TextFields.__annotations__.keys())\n",
        "\n",
        "    return {\n",
        "        \"size\": k,\n",
        "        \"query\": {\n",
        "            \"function_score\": {\n",
        "                \"query\": {\n",
        "                    \"multi_match\": {\n",
        "                        \"query\": query_text,\n",
        "                        \"fields\": [\"product_title\", \"product_text\"]\n",
        "                    },\n",
        "                    \"script_score\": {\n",
        "                        \"script\": {\n",
        "                            \"params\": {\n",
        "                                \"add\": 1,\n",
        "                                \"mult\": 2\n",
        "                            },\n",
        "                            \"source\": \"_score * Math.log(params.add + params.mult * doc['exact'].value + doc['complement'].value)\"\n",
        "                        }\n",
        "                    }\n",
        "                }\n",
        "            }\n",
        "        }\n",
        "    }"
      ]
    },
    {
      "cell_type": "code",
      "execution_count": null,
      "id": "35838226-98dd-47e6-b349-c56dd0ba1832",
      "metadata": {},
      "outputs": [],
      "source": [
        "async def obtain_opensearch_serps(\n",
        "    client: AsyncOpenSearch,\n",
        "    query_text: str,\n",
        "    index_id2doc: dict[int, str]\n",
        ") -> list[dict]:\n",
        "    query_body = obtain_opensearch_query(query_text)\n",
        "    response = await client.search(index=\"products\", body=query_body)\n",
        "    serp = []\n",
        "    for doc_info in response[\"hits\"][\"hits\"]:\n",
        "        doc_info[\"doc\"] = index_id2doc[int(doc_info[\"_id\"])]\n",
        "        serp.append(doc_info)\n",
        "    return serp"
      ]
    },
    {
      "cell_type": "code",
      "execution_count": null,
      "id": "109d9a45-c93e-4410-a18e-208f5b9457dc",
      "metadata": {},
      "outputs": [],
      "source": [
        "def get_dcg(scores):\n",
        "    scores = np.asarray(scores)\n",
        "    return np.sum((2 ** scores - 1) / np.log2(np.arange(2, len(scores)+2)))\n",
        "\n",
        "def get_metrics(serp, gt):\n",
        "    scores = []\n",
        "    for doc in serp:\n",
        "        score = 0\n",
        "        if doc[\"doc\"] in gt:\n",
        "            match gt[doc[\"doc\"]]:\n",
        "                case \"Exact\":\n",
        "                    score = 3\n",
        "                case \"Substitute\":\n",
        "                    score = 2\n",
        "                case \"Complement\":\n",
        "                    score = 1\n",
        "        scores.append(score)\n",
        "    return {\"dcg\": get_dcg(scores)}"
      ]
    },
    {
      "cell_type": "code",
      "execution_count": null,
      "id": "c10d894d-19f8-4723-9518-811c8293ba2e",
      "metadata": {},
      "outputs": [],
      "source": [
        "async def evaluate_opensearch(client, test, index_id2doc):\n",
        "    total = defaultdict(float)\n",
        "    for query, query_text in (pbar := tqdm(test.queries.items())):\n",
        "        serp = await obtain_opensearch_serps(client, query_text, index_id2doc)\n",
        "        metrics = get_metrics(serp, test.query2doc2target[query])\n",
        "        for name in metrics:\n",
        "            total[name] += metrics[name]\n",
        "        pbar.set_postfix(metrics)\n",
        "    for name in total:\n",
        "        total[name] /= len(test.queries)\n",
        "    return total"
      ]
    },
    {
      "cell_type": "code",
      "execution_count": null,
      "id": "1023204c-518a-4055-8a66-5fdc33bfb4bf",
      "metadata": {},
      "outputs": [],
      "source": [
        "await evaluate_opensearch(client, test, index_id2doc)"
      ]
    },
    {
      "cell_type": "markdown",
      "id": "cc3f5ea2-4030-4d64-84e4-ae0a34cde529",
      "metadata": {},
      "source": [
        "### Vector Search - Qdrant "
      ]
    },
    {
      "cell_type": "code",
      "execution_count": null,
      "id": "44e6065a",
      "metadata": {},
      "outputs": [],
      "source": [
        "embedder = BGEM3FlagModel(\n",
        "    'BAAI/bge-m3-unsupervised', \n",
        "    use_fp16=True, \n",
        "    devices=[0]\n",
        ")\n",
        "\n",
        "def obtain_embeddings(texts, batch_size=64, max_length=512):\n",
        "    embeddings = embedder.encode(texts, batch_size=batch_size, max_length=max_length)['dense_vecs']\n",
        "    return embeddings"
      ]
    },
    {
      "cell_type": "code",
      "execution_count": null,
      "id": "09eb23d2-0bf1-4b2d-875b-d206393d2fe7",
      "metadata": {},
      "outputs": [],
      "source": [
        "def obtain_doc2embedding(text_rich_docs, field):\n",
        "    docs = text_rich_docs.keys()\n",
        "    texts = list(map(lambda doc: text_rich_docs[doc].__dict__[field], docs))\n",
        "    embeddings = obtain_embeddings(texts)\n",
        "    return dict(zip(docs, embeddings))"
      ]
    },
    {
      "cell_type": "code",
      "execution_count": null,
      "id": "e20b5730-ff5b-4e03-a23f-14348de2581b",
      "metadata": {},
      "outputs": [],
      "source": [
        "doc2_title_embedding = obtain_doc2embedding(text_rich_docs, \"product_title\")\n",
        "doc2_text_embedding = obtain_doc2embedding(text_rich_docs, \"product_text\")"
      ]
    },
    {
      "cell_type": "markdown",
      "id": "8bcc775e-850c-467f-bf61-09e4e7f28a15",
      "metadata": {},
      "source": [
        "### Indexing \n",
        "\n",
        "[Quickstart](https://qdrant.tech/documentation/quickstart/)"
      ]
    },
    {
      "cell_type": "code",
      "execution_count": null,
      "id": "0ad20e55-3d04-4364-9149-aaba42793623",
      "metadata": {},
      "outputs": [],
      "source": [
        "client = QdrantClient(url=\"http://localhost:6333\")\n",
        "\n",
        "client.create_collection(\n",
        "    collection_name=\"title\",\n",
        "    vectors_config=VectorParams(size=1024, distance=Distance.DOT),\n",
        ")\n",
        "\n",
        "client.create_collection(\n",
        "    collection_name=\"text\",\n",
        "    vectors_config=VectorParams(size=1024, distance=Distance.DOT),\n",
        ")"
      ]
    },
    {
      "cell_type": "code",
      "execution_count": null,
      "id": "89c92491-cda6-45d3-8818-3e8500f2ea69",
      "metadata": {},
      "outputs": [],
      "source": [
        "operation_info = client.upsert(\n",
        "    collection_name=\"test_collection\",\n",
        "    wait=True,\n",
        "    points=[\n",
        "        PointStruct(id=1, vector=[0.05, 0.61, 0.76, 0.74], payload={\"city\": \"Berlin\"}),\n",
        "        PointStruct(id=2, vector=[0.19, 0.81, 0.75, 0.11], payload={\"city\": \"London\"}),\n",
        "        PointStruct(id=3, vector=[0.36, 0.55, 0.47, 0.94], payload={\"city\": \"Moscow\"}),\n",
        "        PointStruct(id=4, vector=[0.18, 0.01, 0.85, 0.80], payload={\"city\": \"New York\"}),\n",
        "        PointStruct(id=5, vector=[0.24, 0.18, 0.22, 0.44], payload={\"city\": \"Beijing\"}),\n",
        "        PointStruct(id=6, vector=[0.35, 0.08, 0.11, 0.44], payload={\"city\": \"Mumbai\"}),\n",
        "    ],\n",
        ")\n",
        "\n",
        "print(operation_info)"
      ]
    },
    {
      "cell_type": "code",
      "execution_count": null,
      "id": "4107768d-a84c-407c-9f30-7d846a6de10c",
      "metadata": {},
      "outputs": [],
      "source": [
        "search_result = client.query_points(\n",
        "    collection_name=\"test_collection\",\n",
        "    query=[0.2, 0.1, 0.9, 0.7],\n",
        "    query_filter=Filter(\n",
        "        must=[FieldCondition(key=\"city\", match=MatchValue(value=\"London\"))]\n",
        "    ),\n",
        "    with_payload=True,\n",
        "    limit=3,\n",
        ").points\n",
        "\n",
        "print(search_result)"
      ]
    },
    {
      "cell_type": "markdown",
      "id": "5a118687-83e9-407b-8ec2-d6cee9033561",
      "metadata": {},
      "source": [
        "### Задание 7. Отбор кандидатов - 8 балла\n",
        "\n",
        "В этом задании вам необходимо объединить выдачи разных источников, в том числе разных индексов в QDrant, в одну выдачу. Воспринимайте их независимыми, берите фиксированное число документов из каждого источника, как если бы они были равнозначны. Дедублицируйте выдачу."
      ]
    },
    {
      "cell_type": "code",
      "execution_count": null,
      "id": "f2256c2c-0090-45f2-bf13-530b20e53003",
      "metadata": {},
      "outputs": [],
      "source": [
        "# ---- Ваш код здесь ----\n",
        "# ---- Конец кода ----"
      ]
    },
    {
      "cell_type": "markdown",
      "id": "3a56a4a7-f24c-4ea1-b599-35f6ba45e411",
      "metadata": {},
      "source": [
        "### Задание 8. Оценка качества - 5 балл\n",
        "\n",
        "Отранжируйте полученные результаты по формуле, основанной на оценку из OpenSearch и QDrant. Например, можно взять линейную комбинацию этих чисел для каждого документа и отранжировать по ней."
      ]
    },
    {
      "cell_type": "code",
      "execution_count": null,
      "id": "de75ff79-b178-4b71-bc2a-f313c5de76e6",
      "metadata": {},
      "outputs": [],
      "source": [
        "# ---- Ваш код здесь ----\n",
        "# ---- Конец кода ----"
      ]
    },
    {
      "cell_type": "markdown",
      "id": "de1dbf37-f023-4ae6-9d0c-5c0f3d988013",
      "metadata": {},
      "source": [
        "## Часть 3. Гибридный поиск"
      ]
    },
    {
      "cell_type": "markdown",
      "id": "75051875-5c04-4b62-b80c-819cc4b436e7",
      "metadata": {},
      "source": [
        "### Задание 9. Модель переранжирования - 8 баллов\n",
        "\n",
        "Обучите Catboost на train-срезе на признаках из OpenSearch и нейропризнаке эмбеддера на основе тех текстов, которые вы индексировали в QDrant. Признак считайте как скалярное произведение между вектором запроса и вектором текста, привязанного к документу."
      ]
    },
    {
      "cell_type": "code",
      "execution_count": null,
      "id": "8b129c6c-0cda-4237-accd-d3594f5da36f",
      "metadata": {},
      "outputs": [],
      "source": [
        "# ---- Ваш код здесь ----\n",
        "# ---- Конец кода ----"
      ]
    },
    {
      "cell_type": "markdown",
      "id": "d489beec-f8fd-4c06-9a5f-cf097877ffe3",
      "metadata": {},
      "source": [
        "### Задание 10. Оценка качества - 2 балла\n",
        "\n",
        "Замерьте конечное качество системы."
      ]
    },
    {
      "cell_type": "code",
      "execution_count": null,
      "id": "603309dd",
      "metadata": {},
      "outputs": [],
      "source": [
        "# ---- Ваш код здесь ----\n",
        "# ---- Конец кода ----"
      ]
    },
    {
      "cell_type": "markdown",
      "id": "ea17adc8",
      "metadata": {},
      "source": [
        "---"
      ]
    },
    {
      "cell_type": "code",
      "execution_count": null,
      "id": "6487e112",
      "metadata": {},
      "outputs": [],
      "source": [
        "!docker stop $(docker ps -a -q)"
      ]
    },
    {
      "cell_type": "markdown",
      "id": "49ea5609",
      "metadata": {},
      "source": [
        "---"
      ]
    }
  ],
  "metadata": {
    "kernelspec": {
      "display_name": "search_system",
      "language": "python",
      "name": "python3"
    },
    "language_info": {
      "codemirror_mode": {
        "name": "ipython",
        "version": 3
      },
      "file_extension": ".py",
      "mimetype": "text/x-python",
      "name": "python",
      "nbconvert_exporter": "python",
      "pygments_lexer": "ipython3",
      "version": "3.12.3"
    }
  },
  "nbformat": 4,
  "nbformat_minor": 5
}
